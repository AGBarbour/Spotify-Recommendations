{
 "cells": [
  {
   "cell_type": "markdown",
   "metadata": {},
   "source": [
    "# Step 1 - Data Engineering\n",
    "\n",
    "The winery data is provided through five CSV files. Start by using Python and Pandas to inspect the content of these files and clean the data."
   ]
  },
  {
   "cell_type": "markdown",
   "metadata": {},
   "source": [
    "Create a Jupyter Notebook file called data_engineering.ipynb and use this to complete all of your Data Engineering tasks."
   ]
  },
  {
   "cell_type": "code",
   "execution_count": 9,
   "metadata": {},
   "outputs": [],
   "source": [
    "# Import dependencies\n",
    "import pandas as pd\n",
    "import numpy as np\n",
    "import csv"
   ]
  },
  {
   "cell_type": "markdown",
   "metadata": {},
   "source": [
    "Use Pandas to read in the measurement and station CSV files as DataFrames."
   ]
  },
  {
   "cell_type": "code",
   "execution_count": 10,
   "metadata": {
    "scrolled": true
   },
   "outputs": [],
   "source": [
    "# Import CSV files into pandas.\n",
    "df_countries = pd.read_csv(\"countries.csv\")\n",
    "df_provinces = pd.read_csv(\"provinces.csv\")\n",
    "df_wineries = pd.read_csv(\"wineries.csv\")\n",
    "df_wines = pd.read_csv(\"wines.csv\")"
   ]
  },
  {
   "cell_type": "markdown",
   "metadata": {},
   "source": [
    "Inspect the data for NaNs and missing values. You must decide what to do with this data."
   ]
  },
  {
   "cell_type": "code",
   "execution_count": 3,
   "metadata": {},
   "outputs": [
    {
     "data": {
      "text/plain": [
       "id         44\n",
       "country    44\n",
       "lat        44\n",
       "lon        44\n",
       "dtype: int64"
      ]
     },
     "execution_count": 3,
     "metadata": {},
     "output_type": "execute_result"
    }
   ],
   "source": [
    "# Look for missing info in the dataframe\n",
    "df_countries.count()"
   ]
  },
  {
   "cell_type": "code",
   "execution_count": 4,
   "metadata": {},
   "outputs": [
    {
     "data": {
      "text/plain": [
       "id         44\n",
       "country    44\n",
       "lat        44\n",
       "lon        44\n",
       "dtype: int64"
      ]
     },
     "execution_count": 4,
     "metadata": {},
     "output_type": "execute_result"
    }
   ],
   "source": [
    "# Fill in NaN spots with 0\n",
    "df_countries['country'] = df_countries['country'].fillna(0)\n",
    "df_countries['lat'] = df_countries['lat'].fillna(0)\n",
    "df_countries['lon'] = df_countries['lon'].fillna(0)\n",
    "df_countries.count()"
   ]
  },
  {
   "cell_type": "code",
   "execution_count": 5,
   "metadata": {},
   "outputs": [
    {
     "data": {
      "text/plain": [
       "id            426\n",
       "province      426\n",
       "pro_lat       426\n",
       "pro_lon       426\n",
       "country_id    426\n",
       "dtype: int64"
      ]
     },
     "execution_count": 5,
     "metadata": {},
     "output_type": "execute_result"
    }
   ],
   "source": [
    "df_provinces['province'] = df_provinces['province'].fillna(0)\n",
    "df_provinces['pro_lat'] = df_provinces['pro_lat'].fillna(0)\n",
    "df_provinces['pro_lon'] = df_provinces['pro_lon'].fillna(0)\n",
    "df_provinces['country_id'] = df_provinces['country_id'].fillna(0)\n",
    "df_provinces.count()"
   ]
  },
  {
   "cell_type": "code",
   "execution_count": 6,
   "metadata": {},
   "outputs": [
    {
     "data": {
      "text/plain": [
       "id             19055\n",
       "winery         19055\n",
       "country_id     19055\n",
       "province_id    19055\n",
       "dtype: int64"
      ]
     },
     "execution_count": 6,
     "metadata": {},
     "output_type": "execute_result"
    }
   ],
   "source": [
    "# Fill in NaN spots with 0\n",
    "df_wineries['province_id'] = df_wineries['province_id'].fillna(0)\n",
    "df_wineries['country_id'] = df_wineries['country_id'].fillna(0)\n",
    "df_wineries.count()"
   ]
  },
  {
   "cell_type": "code",
   "execution_count": 11,
   "metadata": {},
   "outputs": [
    {
     "data": {
      "text/plain": [
       "Unnamed: 0     129971\n",
       "title          129971\n",
       "variety        129971\n",
       "price          129971\n",
       "points         129971\n",
       "country_id     129971\n",
       "province_id    129971\n",
       "winery_id      129971\n",
       "dtype: int64"
      ]
     },
     "execution_count": 11,
     "metadata": {},
     "output_type": "execute_result"
    }
   ],
   "source": [
    "# Fill in NaN spots with 0\n",
    "df_wines['variety'] = df_wines['variety'].fillna(0)\n",
    "df_wines['country_id'] = df_wines['country_id'].fillna(0)\n",
    "df_wines['province_id'] = df_wines['province_id'].fillna(0)\n",
    "df_wines['winery_id'] = df_wines['winery_id'].fillna(0)\n",
    "df_wines['price'] = df_wines['price'].fillna(0)\n",
    "df_wines.count()"
   ]
  },
  {
   "cell_type": "code",
   "execution_count": null,
   "metadata": {},
   "outputs": [],
   "source": []
  },
  {
   "cell_type": "code",
   "execution_count": null,
   "metadata": {},
   "outputs": [],
   "source": []
  }
 ],
 "metadata": {
  "kernelspec": {
   "display_name": "Python 3",
   "language": "python",
   "name": "python3"
  },
  "language_info": {
   "codemirror_mode": {
    "name": "ipython",
    "version": 3
   },
   "file_extension": ".py",
   "mimetype": "text/x-python",
   "name": "python",
   "nbconvert_exporter": "python",
   "pygments_lexer": "ipython3",
   "version": "3.6.5"
  }
 },
 "nbformat": 4,
 "nbformat_minor": 2
}
