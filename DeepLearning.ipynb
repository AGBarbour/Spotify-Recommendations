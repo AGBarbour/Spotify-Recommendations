{
 "cells": [
  {
   "cell_type": "code",
   "execution_count": 1,
   "metadata": {
    "slideshow": {
     "slide_type": "subslide"
    }
   },
   "outputs": [
    {
     "name": "stderr",
     "output_type": "stream",
     "text": [
      "C:\\ProgramData\\Anaconda3\\lib\\site-packages\\h5py\\__init__.py:36: FutureWarning: Conversion of the second argument of issubdtype from `float` to `np.floating` is deprecated. In future, it will be treated as `np.float64 == np.dtype(float).type`.\n",
      "  from ._conv import register_converters as _register_converters\n",
      "Using TensorFlow backend.\n"
     ]
    }
   ],
   "source": [
    "# Dependencies\n",
    "import numpy as np\n",
    "import pandas as pd\n",
    "from sklearn.model_selection import train_test_split\n",
    "from sklearn import preprocessing\n",
    "from sklearn.preprocessing import LabelEncoder, StandardScaler\n",
    "from keras.utils import to_categorical"
   ]
  },
  {
   "cell_type": "code",
   "execution_count": 2,
   "metadata": {
    "slideshow": {
     "slide_type": "fragment"
    }
   },
   "outputs": [],
   "source": [
    "#Read CSV, place in DF\n",
    "df = pd.read_csv(\"features.csv\")\n",
    "df.head()\n",
    "df = df.dropna()"
   ]
  },
  {
   "cell_type": "code",
   "execution_count": 3,
   "metadata": {},
   "outputs": [],
   "source": [
    "heartWillGoOn = [{'acousticness': 0.732, 'danceability': 0.428, 'energy': 0.276,  \n",
    "                 'id': '3oEHQmhvFLiE7ZYES0ulzv', 'instrumentalness': 5.33e-06, 'key': 4, \n",
    "                 'liveness': 0.117,'loudness': -11.729,'mode': 1,\n",
    "                  'speechiness': 0.0312, 'tempo': 99.195, 'valence': 0.0382}]"
   ]
  },
  {
   "cell_type": "code",
   "execution_count": 4,
   "metadata": {},
   "outputs": [
    {
     "name": "stderr",
     "output_type": "stream",
     "text": [
      "C:\\ProgramData\\Anaconda3\\lib\\site-packages\\pandas\\core\\indexing.py:1472: FutureWarning: \n",
      "Passing list-likes to .loc or [] with any missing label will raise\n",
      "KeyError in the future, you can use .reindex() as an alternative.\n",
      "\n",
      "See the documentation here:\n",
      "https://pandas.pydata.org/pandas-docs/stable/indexing.html#deprecate-loc-reindex-listlike\n",
      "  return self._getitem_tuple(key)\n"
     ]
    },
    {
     "data": {
      "text/html": [
       "<div>\n",
       "<style scoped>\n",
       "    .dataframe tbody tr th:only-of-type {\n",
       "        vertical-align: middle;\n",
       "    }\n",
       "\n",
       "    .dataframe tbody tr th {\n",
       "        vertical-align: top;\n",
       "    }\n",
       "\n",
       "    .dataframe thead th {\n",
       "        text-align: right;\n",
       "    }\n",
       "</style>\n",
       "<table border=\"1\" class=\"dataframe\">\n",
       "  <thead>\n",
       "    <tr style=\"text-align: right;\">\n",
       "      <th></th>\n",
       "      <th>index</th>\n",
       "      <th>Unnamed: 0</th>\n",
       "      <th>acousticness</th>\n",
       "      <th>danceability</th>\n",
       "      <th>energy</th>\n",
       "      <th>id</th>\n",
       "      <th>instrumentalness</th>\n",
       "      <th>key</th>\n",
       "      <th>liveness</th>\n",
       "      <th>loudness</th>\n",
       "      <th>mode</th>\n",
       "      <th>speechiness</th>\n",
       "      <th>tempo</th>\n",
       "      <th>valence</th>\n",
       "    </tr>\n",
       "  </thead>\n",
       "  <tbody>\n",
       "    <tr>\n",
       "      <th>143674</th>\n",
       "      <td>143675</td>\n",
       "      <td>143675.0</td>\n",
       "      <td>0.000157</td>\n",
       "      <td>0.634</td>\n",
       "      <td>0.958</td>\n",
       "      <td>4WYZ2dp1BhnPovdiXsvU2S</td>\n",
       "      <td>0.702000</td>\n",
       "      <td>9</td>\n",
       "      <td>0.0898</td>\n",
       "      <td>-5.501</td>\n",
       "      <td>0</td>\n",
       "      <td>0.0340</td>\n",
       "      <td>140.015</td>\n",
       "      <td>0.8140</td>\n",
       "    </tr>\n",
       "    <tr>\n",
       "      <th>143675</th>\n",
       "      <td>143676</td>\n",
       "      <td>143676.0</td>\n",
       "      <td>0.082000</td>\n",
       "      <td>0.507</td>\n",
       "      <td>0.849</td>\n",
       "      <td>1biP5S4CFMNfLA0rceCmRF</td>\n",
       "      <td>0.000000</td>\n",
       "      <td>5</td>\n",
       "      <td>0.7970</td>\n",
       "      <td>-9.197</td>\n",
       "      <td>1</td>\n",
       "      <td>0.1040</td>\n",
       "      <td>132.953</td>\n",
       "      <td>0.1540</td>\n",
       "    </tr>\n",
       "    <tr>\n",
       "      <th>143676</th>\n",
       "      <td>143677</td>\n",
       "      <td>143677.0</td>\n",
       "      <td>0.000821</td>\n",
       "      <td>0.681</td>\n",
       "      <td>0.942</td>\n",
       "      <td>3DZpiHNi3wQuoIMuiJ5jxJ</td>\n",
       "      <td>0.000030</td>\n",
       "      <td>9</td>\n",
       "      <td>0.0656</td>\n",
       "      <td>-4.475</td>\n",
       "      <td>1</td>\n",
       "      <td>0.0483</td>\n",
       "      <td>131.965</td>\n",
       "      <td>0.8850</td>\n",
       "    </tr>\n",
       "    <tr>\n",
       "      <th>143677</th>\n",
       "      <td>143678</td>\n",
       "      <td>143678.0</td>\n",
       "      <td>0.033900</td>\n",
       "      <td>0.834</td>\n",
       "      <td>0.869</td>\n",
       "      <td>3MYe1siYBRujEK5fy9aa3h</td>\n",
       "      <td>0.000522</td>\n",
       "      <td>9</td>\n",
       "      <td>0.1460</td>\n",
       "      <td>-5.890</td>\n",
       "      <td>1</td>\n",
       "      <td>0.0280</td>\n",
       "      <td>113.889</td>\n",
       "      <td>0.7850</td>\n",
       "    </tr>\n",
       "    <tr>\n",
       "      <th>143678</th>\n",
       "      <td>0</td>\n",
       "      <td>NaN</td>\n",
       "      <td>0.732000</td>\n",
       "      <td>0.428</td>\n",
       "      <td>0.276</td>\n",
       "      <td>3oEHQmhvFLiE7ZYES0ulzv</td>\n",
       "      <td>0.000005</td>\n",
       "      <td>4</td>\n",
       "      <td>0.1170</td>\n",
       "      <td>-11.729</td>\n",
       "      <td>1</td>\n",
       "      <td>0.0312</td>\n",
       "      <td>99.195</td>\n",
       "      <td>0.0382</td>\n",
       "    </tr>\n",
       "  </tbody>\n",
       "</table>\n",
       "</div>"
      ],
      "text/plain": [
       "         index  Unnamed: 0  acousticness  danceability  energy  \\\n",
       "143674  143675    143675.0      0.000157         0.634   0.958   \n",
       "143675  143676    143676.0      0.082000         0.507   0.849   \n",
       "143676  143677    143677.0      0.000821         0.681   0.942   \n",
       "143677  143678    143678.0      0.033900         0.834   0.869   \n",
       "143678       0         NaN      0.732000         0.428   0.276   \n",
       "\n",
       "                            id  instrumentalness  key  liveness  loudness  \\\n",
       "143674  4WYZ2dp1BhnPovdiXsvU2S          0.702000    9    0.0898    -5.501   \n",
       "143675  1biP5S4CFMNfLA0rceCmRF          0.000000    5    0.7970    -9.197   \n",
       "143676  3DZpiHNi3wQuoIMuiJ5jxJ          0.000030    9    0.0656    -4.475   \n",
       "143677  3MYe1siYBRujEK5fy9aa3h          0.000522    9    0.1460    -5.890   \n",
       "143678  3oEHQmhvFLiE7ZYES0ulzv          0.000005    4    0.1170   -11.729   \n",
       "\n",
       "        mode  speechiness    tempo  valence  \n",
       "143674     0       0.0340  140.015   0.8140  \n",
       "143675     1       0.1040  132.953   0.1540  \n",
       "143676     1       0.0483  131.965   0.8850  \n",
       "143677     1       0.0280  113.889   0.7850  \n",
       "143678     1       0.0312   99.195   0.0382  "
      ]
     },
     "execution_count": 4,
     "metadata": {},
     "output_type": "execute_result"
    }
   ],
   "source": [
    "df = df.append(heartWillGoOn)\n",
    "df = df.reset_index()\n",
    "df.tail()"
   ]
  },
  {
   "cell_type": "code",
   "execution_count": 5,
   "metadata": {},
   "outputs": [
    {
     "name": "stderr",
     "output_type": "stream",
     "text": [
      "C:\\ProgramData\\Anaconda3\\lib\\site-packages\\sklearn\\preprocessing\\data.py:323: DataConversionWarning: Data with input dtype int64, float64 were all converted to float64 by MinMaxScaler.\n",
      "  return self.partial_fit(X, y)\n"
     ]
    }
   ],
   "source": [
    "min_max_scaler = preprocessing.MinMaxScaler()\n",
    "np_scaled = min_max_scaler.fit_transform(df[['acousticness','danceability','energy','instrumentalness','key',\\\n",
    "                                           'liveness','loudness','mode','speechiness','tempo','valence']])\n",
    "df_normalized = pd.DataFrame(np_scaled)\n"
   ]
  },
  {
   "cell_type": "code",
   "execution_count": 6,
   "metadata": {},
   "outputs": [],
   "source": [
    "df_normalized.columns = ['acousticness','danceability','energy','instrumentalness','key',\\\n",
    "                                           'liveness','loudness','mode','speechiness','tempo','valence']"
   ]
  },
  {
   "cell_type": "code",
   "execution_count": 7,
   "metadata": {},
   "outputs": [
    {
     "data": {
      "text/html": [
       "<div>\n",
       "<style scoped>\n",
       "    .dataframe tbody tr th:only-of-type {\n",
       "        vertical-align: middle;\n",
       "    }\n",
       "\n",
       "    .dataframe tbody tr th {\n",
       "        vertical-align: top;\n",
       "    }\n",
       "\n",
       "    .dataframe thead th {\n",
       "        text-align: right;\n",
       "    }\n",
       "</style>\n",
       "<table border=\"1\" class=\"dataframe\">\n",
       "  <thead>\n",
       "    <tr style=\"text-align: right;\">\n",
       "      <th></th>\n",
       "      <th>acousticness</th>\n",
       "      <th>danceability</th>\n",
       "      <th>energy</th>\n",
       "      <th>instrumentalness</th>\n",
       "      <th>key</th>\n",
       "      <th>liveness</th>\n",
       "      <th>loudness</th>\n",
       "      <th>mode</th>\n",
       "      <th>speechiness</th>\n",
       "      <th>tempo</th>\n",
       "      <th>valence</th>\n",
       "      <th>id</th>\n",
       "    </tr>\n",
       "  </thead>\n",
       "  <tbody>\n",
       "    <tr>\n",
       "      <th>143674</th>\n",
       "      <td>0.000158</td>\n",
       "      <td>0.640404</td>\n",
       "      <td>0.958</td>\n",
       "      <td>0.702000</td>\n",
       "      <td>0.818182</td>\n",
       "      <td>0.090070</td>\n",
       "      <td>0.858171</td>\n",
       "      <td>0.0</td>\n",
       "      <td>0.035088</td>\n",
       "      <td>0.560230</td>\n",
       "      <td>0.8140</td>\n",
       "      <td>4WYZ2dp1BhnPovdiXsvU2S</td>\n",
       "    </tr>\n",
       "    <tr>\n",
       "      <th>143675</th>\n",
       "      <td>0.082329</td>\n",
       "      <td>0.512121</td>\n",
       "      <td>0.849</td>\n",
       "      <td>0.000000</td>\n",
       "      <td>0.454545</td>\n",
       "      <td>0.799398</td>\n",
       "      <td>0.799972</td>\n",
       "      <td>1.0</td>\n",
       "      <td>0.107327</td>\n",
       "      <td>0.531974</td>\n",
       "      <td>0.1540</td>\n",
       "      <td>1biP5S4CFMNfLA0rceCmRF</td>\n",
       "    </tr>\n",
       "    <tr>\n",
       "      <th>143676</th>\n",
       "      <td>0.000824</td>\n",
       "      <td>0.687879</td>\n",
       "      <td>0.942</td>\n",
       "      <td>0.000030</td>\n",
       "      <td>0.818182</td>\n",
       "      <td>0.065797</td>\n",
       "      <td>0.874327</td>\n",
       "      <td>1.0</td>\n",
       "      <td>0.049845</td>\n",
       "      <td>0.528021</td>\n",
       "      <td>0.8850</td>\n",
       "      <td>3DZpiHNi3wQuoIMuiJ5jxJ</td>\n",
       "    </tr>\n",
       "    <tr>\n",
       "      <th>143677</th>\n",
       "      <td>0.034036</td>\n",
       "      <td>0.842424</td>\n",
       "      <td>0.869</td>\n",
       "      <td>0.000522</td>\n",
       "      <td>0.818182</td>\n",
       "      <td>0.146439</td>\n",
       "      <td>0.852045</td>\n",
       "      <td>1.0</td>\n",
       "      <td>0.028896</td>\n",
       "      <td>0.455695</td>\n",
       "      <td>0.7850</td>\n",
       "      <td>3MYe1siYBRujEK5fy9aa3h</td>\n",
       "    </tr>\n",
       "    <tr>\n",
       "      <th>143678</th>\n",
       "      <td>0.734940</td>\n",
       "      <td>0.432323</td>\n",
       "      <td>0.276</td>\n",
       "      <td>0.000005</td>\n",
       "      <td>0.363636</td>\n",
       "      <td>0.117352</td>\n",
       "      <td>0.760101</td>\n",
       "      <td>1.0</td>\n",
       "      <td>0.032198</td>\n",
       "      <td>0.396901</td>\n",
       "      <td>0.0382</td>\n",
       "      <td>3oEHQmhvFLiE7ZYES0ulzv</td>\n",
       "    </tr>\n",
       "  </tbody>\n",
       "</table>\n",
       "</div>"
      ],
      "text/plain": [
       "        acousticness  danceability  energy  instrumentalness       key  \\\n",
       "143674      0.000158      0.640404   0.958          0.702000  0.818182   \n",
       "143675      0.082329      0.512121   0.849          0.000000  0.454545   \n",
       "143676      0.000824      0.687879   0.942          0.000030  0.818182   \n",
       "143677      0.034036      0.842424   0.869          0.000522  0.818182   \n",
       "143678      0.734940      0.432323   0.276          0.000005  0.363636   \n",
       "\n",
       "        liveness  loudness  mode  speechiness     tempo  valence  \\\n",
       "143674  0.090070  0.858171   0.0     0.035088  0.560230   0.8140   \n",
       "143675  0.799398  0.799972   1.0     0.107327  0.531974   0.1540   \n",
       "143676  0.065797  0.874327   1.0     0.049845  0.528021   0.8850   \n",
       "143677  0.146439  0.852045   1.0     0.028896  0.455695   0.7850   \n",
       "143678  0.117352  0.760101   1.0     0.032198  0.396901   0.0382   \n",
       "\n",
       "                            id  \n",
       "143674  4WYZ2dp1BhnPovdiXsvU2S  \n",
       "143675  1biP5S4CFMNfLA0rceCmRF  \n",
       "143676  3DZpiHNi3wQuoIMuiJ5jxJ  \n",
       "143677  3MYe1siYBRujEK5fy9aa3h  \n",
       "143678  3oEHQmhvFLiE7ZYES0ulzv  "
      ]
     },
     "execution_count": 7,
     "metadata": {},
     "output_type": "execute_result"
    }
   ],
   "source": [
    "df_normalized['id'] = df['id']\n",
    "df_normalized.tail()"
   ]
  },
  {
   "cell_type": "code",
   "execution_count": 8,
   "metadata": {},
   "outputs": [
    {
     "data": {
      "text/html": [
       "<div>\n",
       "<style scoped>\n",
       "    .dataframe tbody tr th:only-of-type {\n",
       "        vertical-align: middle;\n",
       "    }\n",
       "\n",
       "    .dataframe tbody tr th {\n",
       "        vertical-align: top;\n",
       "    }\n",
       "\n",
       "    .dataframe thead th {\n",
       "        text-align: right;\n",
       "    }\n",
       "</style>\n",
       "<table border=\"1\" class=\"dataframe\">\n",
       "  <thead>\n",
       "    <tr style=\"text-align: right;\">\n",
       "      <th></th>\n",
       "      <th>acousticness</th>\n",
       "      <th>danceability</th>\n",
       "      <th>energy</th>\n",
       "      <th>instrumentalness</th>\n",
       "      <th>key</th>\n",
       "      <th>liveness</th>\n",
       "      <th>loudness</th>\n",
       "      <th>mode</th>\n",
       "      <th>speechiness</th>\n",
       "      <th>tempo</th>\n",
       "      <th>valence</th>\n",
       "      <th>id</th>\n",
       "    </tr>\n",
       "  </thead>\n",
       "  <tbody>\n",
       "    <tr>\n",
       "      <th>143678</th>\n",
       "      <td>0.73494</td>\n",
       "      <td>0.432323</td>\n",
       "      <td>0.276</td>\n",
       "      <td>0.000005</td>\n",
       "      <td>0.363636</td>\n",
       "      <td>0.117352</td>\n",
       "      <td>0.760101</td>\n",
       "      <td>1.0</td>\n",
       "      <td>0.032198</td>\n",
       "      <td>0.396901</td>\n",
       "      <td>0.0382</td>\n",
       "      <td>3oEHQmhvFLiE7ZYES0ulzv</td>\n",
       "    </tr>\n",
       "  </tbody>\n",
       "</table>\n",
       "</div>"
      ],
      "text/plain": [
       "        acousticness  danceability  energy  instrumentalness       key  \\\n",
       "143678       0.73494      0.432323   0.276          0.000005  0.363636   \n",
       "\n",
       "        liveness  loudness  mode  speechiness     tempo  valence  \\\n",
       "143678  0.117352  0.760101   1.0     0.032198  0.396901   0.0382   \n",
       "\n",
       "                            id  \n",
       "143678  3oEHQmhvFLiE7ZYES0ulzv  "
      ]
     },
     "execution_count": 8,
     "metadata": {},
     "output_type": "execute_result"
    }
   ],
   "source": [
    "df_normalized,last_row=df_normalized.drop(df_normalized.tail(1).index),df_normalized.tail(1)\n",
    "last_row"
   ]
  },
  {
   "cell_type": "code",
   "execution_count": 9,
   "metadata": {},
   "outputs": [],
   "source": [
    "last_row['acousticness']\n",
    "df_normalized['score'] = ( \n",
    "    df_normalized['acousticness'].apply(lambda row: np.abs(row - last_row['acousticness'])) + \\\n",
    "    df_normalized['danceability'].apply(lambda row: np.abs(row - last_row['danceability'])) + \\\n",
    "    df_normalized['energy'].apply(lambda row: np.abs(row - last_row['energy'])) + \\\n",
    "    df_normalized['instrumentalness'].apply(lambda row: np.abs(row - last_row['instrumentalness'])) + \\\n",
    "    df_normalized['key'].apply(lambda row: np.abs(row - last_row['key'])) + \\\n",
    "    df_normalized['liveness'].apply(lambda row: np.abs(row - last_row['liveness'])) + \\\n",
    "    df_normalized['loudness'].apply(lambda row: np.abs(row - last_row['loudness'])) + \\\n",
    "    df_normalized['mode'].apply(lambda row: np.abs(row - last_row['mode'])) + \\\n",
    "    df_normalized['speechiness'].apply(lambda row: np.abs(row - last_row['speechiness'])) + \\\n",
    "    df_normalized['tempo'].apply(lambda row: np.abs(row - last_row['tempo'])) + \\\n",
    "    df_normalized['valence'].apply(lambda row: np.abs(row - last_row['valence']))                                    \n",
    ")"
   ]
  },
  {
   "cell_type": "code",
   "execution_count": 10,
   "metadata": {},
   "outputs": [
    {
     "data": {
      "text/html": [
       "<div>\n",
       "<style scoped>\n",
       "    .dataframe tbody tr th:only-of-type {\n",
       "        vertical-align: middle;\n",
       "    }\n",
       "\n",
       "    .dataframe tbody tr th {\n",
       "        vertical-align: top;\n",
       "    }\n",
       "\n",
       "    .dataframe thead th {\n",
       "        text-align: right;\n",
       "    }\n",
       "</style>\n",
       "<table border=\"1\" class=\"dataframe\">\n",
       "  <thead>\n",
       "    <tr style=\"text-align: right;\">\n",
       "      <th></th>\n",
       "      <th>acousticness</th>\n",
       "      <th>danceability</th>\n",
       "      <th>energy</th>\n",
       "      <th>instrumentalness</th>\n",
       "      <th>key</th>\n",
       "      <th>liveness</th>\n",
       "      <th>loudness</th>\n",
       "      <th>mode</th>\n",
       "      <th>speechiness</th>\n",
       "      <th>tempo</th>\n",
       "      <th>valence</th>\n",
       "      <th>id</th>\n",
       "      <th>score</th>\n",
       "    </tr>\n",
       "  </thead>\n",
       "  <tbody>\n",
       "    <tr>\n",
       "      <th>143673</th>\n",
       "      <td>0.156627</td>\n",
       "      <td>0.780808</td>\n",
       "      <td>0.694</td>\n",
       "      <td>0.009980</td>\n",
       "      <td>0.454545</td>\n",
       "      <td>0.094082</td>\n",
       "      <td>0.839464</td>\n",
       "      <td>0.0</td>\n",
       "      <td>0.032508</td>\n",
       "      <td>0.380192</td>\n",
       "      <td>0.829</td>\n",
       "      <td>3fBzXNIRUnHl80OFhB0jo7</td>\n",
       "      <td>3.356133</td>\n",
       "    </tr>\n",
       "    <tr>\n",
       "      <th>143674</th>\n",
       "      <td>0.000158</td>\n",
       "      <td>0.640404</td>\n",
       "      <td>0.958</td>\n",
       "      <td>0.702000</td>\n",
       "      <td>0.818182</td>\n",
       "      <td>0.090070</td>\n",
       "      <td>0.858171</td>\n",
       "      <td>0.0</td>\n",
       "      <td>0.035088</td>\n",
       "      <td>0.560230</td>\n",
       "      <td>0.814</td>\n",
       "      <td>4WYZ2dp1BhnPovdiXsvU2S</td>\n",
       "      <td>4.848774</td>\n",
       "    </tr>\n",
       "    <tr>\n",
       "      <th>143675</th>\n",
       "      <td>0.082329</td>\n",
       "      <td>0.512121</td>\n",
       "      <td>0.849</td>\n",
       "      <td>0.000000</td>\n",
       "      <td>0.454545</td>\n",
       "      <td>0.799398</td>\n",
       "      <td>0.799972</td>\n",
       "      <td>1.0</td>\n",
       "      <td>0.107327</td>\n",
       "      <td>0.531974</td>\n",
       "      <td>0.154</td>\n",
       "      <td>1biP5S4CFMNfLA0rceCmRF</td>\n",
       "      <td>2.444241</td>\n",
       "    </tr>\n",
       "    <tr>\n",
       "      <th>143676</th>\n",
       "      <td>0.000824</td>\n",
       "      <td>0.687879</td>\n",
       "      <td>0.942</td>\n",
       "      <td>0.000030</td>\n",
       "      <td>0.818182</td>\n",
       "      <td>0.065797</td>\n",
       "      <td>0.874327</td>\n",
       "      <td>1.0</td>\n",
       "      <td>0.049845</td>\n",
       "      <td>0.528021</td>\n",
       "      <td>0.885</td>\n",
       "      <td>3DZpiHNi3wQuoIMuiJ5jxJ</td>\n",
       "      <td>3.271589</td>\n",
       "    </tr>\n",
       "    <tr>\n",
       "      <th>143677</th>\n",
       "      <td>0.034036</td>\n",
       "      <td>0.842424</td>\n",
       "      <td>0.869</td>\n",
       "      <td>0.000522</td>\n",
       "      <td>0.818182</td>\n",
       "      <td>0.146439</td>\n",
       "      <td>0.852045</td>\n",
       "      <td>1.0</td>\n",
       "      <td>0.028896</td>\n",
       "      <td>0.455695</td>\n",
       "      <td>0.785</td>\n",
       "      <td>3MYe1siYBRujEK5fy9aa3h</td>\n",
       "      <td>3.088994</td>\n",
       "    </tr>\n",
       "  </tbody>\n",
       "</table>\n",
       "</div>"
      ],
      "text/plain": [
       "        acousticness  danceability  energy  instrumentalness       key  \\\n",
       "143673      0.156627      0.780808   0.694          0.009980  0.454545   \n",
       "143674      0.000158      0.640404   0.958          0.702000  0.818182   \n",
       "143675      0.082329      0.512121   0.849          0.000000  0.454545   \n",
       "143676      0.000824      0.687879   0.942          0.000030  0.818182   \n",
       "143677      0.034036      0.842424   0.869          0.000522  0.818182   \n",
       "\n",
       "        liveness  loudness  mode  speechiness     tempo  valence  \\\n",
       "143673  0.094082  0.839464   0.0     0.032508  0.380192    0.829   \n",
       "143674  0.090070  0.858171   0.0     0.035088  0.560230    0.814   \n",
       "143675  0.799398  0.799972   1.0     0.107327  0.531974    0.154   \n",
       "143676  0.065797  0.874327   1.0     0.049845  0.528021    0.885   \n",
       "143677  0.146439  0.852045   1.0     0.028896  0.455695    0.785   \n",
       "\n",
       "                            id     score  \n",
       "143673  3fBzXNIRUnHl80OFhB0jo7  3.356133  \n",
       "143674  4WYZ2dp1BhnPovdiXsvU2S  4.848774  \n",
       "143675  1biP5S4CFMNfLA0rceCmRF  2.444241  \n",
       "143676  3DZpiHNi3wQuoIMuiJ5jxJ  3.271589  \n",
       "143677  3MYe1siYBRujEK5fy9aa3h  3.088994  "
      ]
     },
     "execution_count": 10,
     "metadata": {},
     "output_type": "execute_result"
    }
   ],
   "source": [
    "df_normalized.tail()"
   ]
  },
  {
   "cell_type": "code",
   "execution_count": 23,
   "metadata": {},
   "outputs": [
    {
     "data": {
      "text/html": [
       "<div>\n",
       "<style scoped>\n",
       "    .dataframe tbody tr th:only-of-type {\n",
       "        vertical-align: middle;\n",
       "    }\n",
       "\n",
       "    .dataframe tbody tr th {\n",
       "        vertical-align: top;\n",
       "    }\n",
       "\n",
       "    .dataframe thead th {\n",
       "        text-align: right;\n",
       "    }\n",
       "</style>\n",
       "<table border=\"1\" class=\"dataframe\">\n",
       "  <thead>\n",
       "    <tr style=\"text-align: right;\">\n",
       "      <th></th>\n",
       "      <th>acousticness</th>\n",
       "      <th>danceability</th>\n",
       "      <th>energy</th>\n",
       "      <th>instrumentalness</th>\n",
       "      <th>key</th>\n",
       "      <th>liveness</th>\n",
       "      <th>loudness</th>\n",
       "      <th>mode</th>\n",
       "      <th>speechiness</th>\n",
       "      <th>tempo</th>\n",
       "      <th>valence</th>\n",
       "      <th>id</th>\n",
       "      <th>score</th>\n",
       "      <th>class</th>\n",
       "    </tr>\n",
       "  </thead>\n",
       "  <tbody>\n",
       "    <tr>\n",
       "      <th>0</th>\n",
       "      <td>0.573293</td>\n",
       "      <td>0.647475</td>\n",
       "      <td>0.665</td>\n",
       "      <td>0.001070</td>\n",
       "      <td>0.636364</td>\n",
       "      <td>0.159478</td>\n",
       "      <td>0.821355</td>\n",
       "      <td>1.0</td>\n",
       "      <td>0.027141</td>\n",
       "      <td>0.552236</td>\n",
       "      <td>0.677</td>\n",
       "      <td>1vPk6ZTflnvm8LgtXzPDrT</td>\n",
       "      <td>1.942162</td>\n",
       "      <td>False</td>\n",
       "    </tr>\n",
       "    <tr>\n",
       "      <th>1</th>\n",
       "      <td>0.720884</td>\n",
       "      <td>0.679798</td>\n",
       "      <td>0.405</td>\n",
       "      <td>0.000268</td>\n",
       "      <td>0.636364</td>\n",
       "      <td>0.122367</td>\n",
       "      <td>0.797988</td>\n",
       "      <td>1.0</td>\n",
       "      <td>0.032301</td>\n",
       "      <td>0.624026</td>\n",
       "      <td>0.652</td>\n",
       "      <td>6OpIhef0IbK0tkEU2m9c4T</td>\n",
       "      <td>1.547450</td>\n",
       "      <td>False</td>\n",
       "    </tr>\n",
       "    <tr>\n",
       "      <th>2</th>\n",
       "      <td>0.247992</td>\n",
       "      <td>0.732323</td>\n",
       "      <td>0.488</td>\n",
       "      <td>0.000000</td>\n",
       "      <td>0.636364</td>\n",
       "      <td>0.080341</td>\n",
       "      <td>0.792114</td>\n",
       "      <td>1.0</td>\n",
       "      <td>0.034675</td>\n",
       "      <td>0.496523</td>\n",
       "      <td>0.456</td>\n",
       "      <td>36qxb23eWvnQiJWEMgWYO6</td>\n",
       "      <td>1.860603</td>\n",
       "      <td>False</td>\n",
       "    </tr>\n",
       "    <tr>\n",
       "      <th>3</th>\n",
       "      <td>0.516064</td>\n",
       "      <td>0.691919</td>\n",
       "      <td>0.503</td>\n",
       "      <td>0.000028</td>\n",
       "      <td>1.000000</td>\n",
       "      <td>0.082447</td>\n",
       "      <td>0.831827</td>\n",
       "      <td>1.0</td>\n",
       "      <td>0.042931</td>\n",
       "      <td>0.375806</td>\n",
       "      <td>0.807</td>\n",
       "      <td>1FIlg68WTgn0xGL8vPy5Rj</td>\n",
       "      <td>2.249115</td>\n",
       "      <td>False</td>\n",
       "    </tr>\n",
       "    <tr>\n",
       "      <th>4</th>\n",
       "      <td>0.790161</td>\n",
       "      <td>0.614141</td>\n",
       "      <td>0.331</td>\n",
       "      <td>0.000000</td>\n",
       "      <td>0.636364</td>\n",
       "      <td>0.324975</td>\n",
       "      <td>0.776431</td>\n",
       "      <td>1.0</td>\n",
       "      <td>0.029928</td>\n",
       "      <td>0.552692</td>\n",
       "      <td>0.709</td>\n",
       "      <td>7oBAMX1mPa2qiqmSunLirZ</td>\n",
       "      <td>1.617585</td>\n",
       "      <td>False</td>\n",
       "    </tr>\n",
       "  </tbody>\n",
       "</table>\n",
       "</div>"
      ],
      "text/plain": [
       "   acousticness  danceability  energy  instrumentalness       key  liveness  \\\n",
       "0      0.573293      0.647475   0.665          0.001070  0.636364  0.159478   \n",
       "1      0.720884      0.679798   0.405          0.000268  0.636364  0.122367   \n",
       "2      0.247992      0.732323   0.488          0.000000  0.636364  0.080341   \n",
       "3      0.516064      0.691919   0.503          0.000028  1.000000  0.082447   \n",
       "4      0.790161      0.614141   0.331          0.000000  0.636364  0.324975   \n",
       "\n",
       "   loudness  mode  speechiness     tempo  valence                      id  \\\n",
       "0  0.821355   1.0     0.027141  0.552236    0.677  1vPk6ZTflnvm8LgtXzPDrT   \n",
       "1  0.797988   1.0     0.032301  0.624026    0.652  6OpIhef0IbK0tkEU2m9c4T   \n",
       "2  0.792114   1.0     0.034675  0.496523    0.456  36qxb23eWvnQiJWEMgWYO6   \n",
       "3  0.831827   1.0     0.042931  0.375806    0.807  1FIlg68WTgn0xGL8vPy5Rj   \n",
       "4  0.776431   1.0     0.029928  0.552692    0.709  7oBAMX1mPa2qiqmSunLirZ   \n",
       "\n",
       "      score  class  \n",
       "0  1.942162  False  \n",
       "1  1.547450  False  \n",
       "2  1.860603  False  \n",
       "3  2.249115  False  \n",
       "4  1.617585  False  "
      ]
     },
     "execution_count": 23,
     "metadata": {},
     "output_type": "execute_result"
    }
   ],
   "source": [
    "df_normalized['class'] = df_normalized['score'].apply(lambda row: True if row < 1.5 else False)\n",
    "df_normalized.head()"
   ]
  },
  {
   "cell_type": "code",
   "execution_count": 22,
   "metadata": {},
   "outputs": [
    {
     "data": {
      "text/plain": [
       "False    129924\n",
       "True      13754\n",
       "Name: class, dtype: int64"
      ]
     },
     "execution_count": 22,
     "metadata": {},
     "output_type": "execute_result"
    }
   ],
   "source": [
    "df_normalized['class'].value_counts()"
   ]
  },
  {
   "cell_type": "markdown",
   "metadata": {
    "slideshow": {
     "slide_type": "subslide"
    }
   },
   "source": [
    "## Data Pre-Processing"
   ]
  },
  {
   "cell_type": "code",
   "execution_count": 13,
   "metadata": {
    "nbgrader": {
     "grade": false,
     "grade_id": "cell-86a9e3212f200d21",
     "locked": false,
     "schema_version": 1,
     "solution": true
    },
    "slideshow": {
     "slide_type": "subslide"
    }
   },
   "outputs": [
    {
     "name": "stdout",
     "output_type": "stream",
     "text": [
      "(143678, 11) (143678,)\n"
     ]
    }
   ],
   "source": [
    "data = df_normalized.drop([\"class\", \"score\",\"id\"], axis=1)\n",
    "#feature_names = data.columns\n",
    "data.head()\n",
    "target = df_normalized[\"class\"]\n",
    "print(data.shape, target.shape)"
   ]
  },
  {
   "cell_type": "code",
   "execution_count": 14,
   "metadata": {
    "nbgrader": {
     "grade": false,
     "grade_id": "cell-711a82d9b32c83ff",
     "locked": false,
     "schema_version": 1,
     "solution": true
    },
    "slideshow": {
     "slide_type": "fragment"
    }
   },
   "outputs": [],
   "source": [
    "\n",
    "\n",
    "X_train, X_test, y_train, y_test = train_test_split(\n",
    "    data, target, random_state=20, stratify=target)\n",
    "# X_scaler = StandardScaler().fit(X_train)\n",
    "# X_train_scaled = X_scaler.transform(X_train)\n",
    "# X_test_scaled = X_scaler.transform(X_test)\n",
    "\n",
    "\n",
    "# Step 1: Label-encode data set\n",
    "label_encoder = LabelEncoder()\n",
    "label_encoder.fit(y_train)\n",
    "encoded_y_train = label_encoder.transform(y_train)\n",
    "encoded_y_test = label_encoder.transform(y_test)\n",
    "\n",
    "# Step 2: Convert encoded labels to one-hot-encoding\n",
    "y_train_categorical = to_categorical(encoded_y_train)\n",
    "y_test_categorical = to_categorical(encoded_y_test)"
   ]
  },
  {
   "cell_type": "markdown",
   "metadata": {},
   "source": [
    "# Create a Deep Learning Model"
   ]
  },
  {
   "cell_type": "code",
   "execution_count": 15,
   "metadata": {},
   "outputs": [
    {
     "name": "stdout",
     "output_type": "stream",
     "text": [
      "_________________________________________________________________\n",
      "Layer (type)                 Output Shape              Param #   \n",
      "=================================================================\n",
      "dense_1 (Dense)              (None, 100)               1200      \n",
      "_________________________________________________________________\n",
      "dense_2 (Dense)              (None, 100)               10100     \n",
      "_________________________________________________________________\n",
      "dense_3 (Dense)              (None, 50)                5050      \n",
      "_________________________________________________________________\n",
      "dense_4 (Dense)              (None, 50)                2550      \n",
      "_________________________________________________________________\n",
      "dense_5 (Dense)              (None, 2)                 102       \n",
      "=================================================================\n",
      "Total params: 19,002\n",
      "Trainable params: 19,002\n",
      "Non-trainable params: 0\n",
      "_________________________________________________________________\n"
     ]
    }
   ],
   "source": [
    "from keras.models import Sequential\n",
    "from keras.layers import Dense\n",
    "\n",
    "# Create model and add layers\n",
    "model = Sequential()\n",
    "model.add(Dense(units=100, activation='selu', input_dim=11))\n",
    "model.add(Dense(units=100, activation='relu'))\n",
    "model.add(Dense(units=50, activation='relu'))\n",
    "model.add(Dense(units=50, activation='relu'))\n",
    "model.add(Dense(units=2, activation='softmax'))\n",
    "\n",
    "model.summary()"
   ]
  },
  {
   "cell_type": "code",
   "execution_count": 16,
   "metadata": {},
   "outputs": [
    {
     "name": "stdout",
     "output_type": "stream",
     "text": [
      "Epoch 1/20\n",
      "107758/107758 [==============================] - 5s 49us/step - loss: 0.0028 - acc: 0.9997\n",
      "Epoch 2/20\n",
      "107758/107758 [==============================] - 5s 46us/step - loss: 0.0015 - acc: 0.9999\n",
      "Epoch 3/20\n",
      "107758/107758 [==============================] - 5s 45us/step - loss: 0.0015 - acc: 0.9999\n",
      "Epoch 4/20\n",
      "107758/107758 [==============================] - 5s 50us/step - loss: 0.0015 - acc: 0.9999\n",
      "Epoch 5/20\n",
      "107758/107758 [==============================] - 5s 47us/step - loss: 0.0015 - acc: 0.9999\n",
      "Epoch 6/20\n",
      "107758/107758 [==============================] - 5s 47us/step - loss: 0.0015 - acc: 0.9999\n",
      "Epoch 7/20\n",
      "107758/107758 [==============================] - 5s 49us/step - loss: 0.0015 - acc: 0.9999\n",
      "Epoch 8/20\n",
      "107758/107758 [==============================] - 5s 48us/step - loss: 0.0015 - acc: 0.9999\n",
      "Epoch 9/20\n",
      "107758/107758 [==============================] - 5s 49us/step - loss: 0.0015 - acc: 0.9999\n",
      "Epoch 10/20\n",
      "107758/107758 [==============================] - 5s 46us/step - loss: 0.0015 - acc: 0.9999\n",
      "Epoch 11/20\n",
      "107758/107758 [==============================] - 5s 46us/step - loss: 0.0015 - acc: 0.9999\n",
      "Epoch 12/20\n",
      "107758/107758 [==============================] - 5s 46us/step - loss: 0.0015 - acc: 0.9999\n",
      "Epoch 13/20\n",
      "107758/107758 [==============================] - 5s 46us/step - loss: 0.0015 - acc: 0.9999\n",
      "Epoch 14/20\n",
      "107758/107758 [==============================] - 5s 49us/step - loss: 0.0015 - acc: 0.9999\n",
      "Epoch 15/20\n",
      "107758/107758 [==============================] - 5s 47us/step - loss: 0.0015 - acc: 0.9999\n",
      "Epoch 16/20\n",
      "107758/107758 [==============================] - 5s 47us/step - loss: 0.0015 - acc: 0.9999\n",
      "Epoch 17/20\n",
      "107758/107758 [==============================] - 5s 47us/step - loss: 0.0015 - acc: 0.9999\n",
      "Epoch 18/20\n",
      "107758/107758 [==============================] - 5s 46us/step - loss: 0.0015 - acc: 0.9999\n",
      "Epoch 19/20\n",
      "107758/107758 [==============================] - 5s 47us/step - loss: 0.0015 - acc: 0.9999\n",
      "Epoch 20/20\n",
      "107758/107758 [==============================] - 5s 46us/step - loss: 0.0015 - acc: 0.9999\n"
     ]
    },
    {
     "data": {
      "text/plain": [
       "<keras.callbacks.History at 0x1adc4be89e8>"
      ]
     },
     "execution_count": 16,
     "metadata": {},
     "output_type": "execute_result"
    }
   ],
   "source": [
    "# Compile and fit the model\n",
    "model.compile(optimizer='adam',\n",
    "              loss='categorical_crossentropy',\n",
    "              metrics=['accuracy'])\n",
    "model.fit(\n",
    "#     X_train_scaled,  Test 2 - Removed scaling.  This step was performed on data BEFORE being entered into machine\n",
    "    X_train,\n",
    "    y_train_categorical,\n",
    "    epochs=20,\n",
    "    shuffle=True,\n",
    "    verbose=1\n",
    ")"
   ]
  },
  {
   "cell_type": "markdown",
   "metadata": {},
   "source": [
    "## Quantify our Trained Model"
   ]
  },
  {
   "cell_type": "code",
   "execution_count": 17,
   "metadata": {},
   "outputs": [
    {
     "name": "stdout",
     "output_type": "stream",
     "text": [
      "Normal Neural Network - Loss: 0.0017950071258375003, Accuracy: 0.9998886414253898\n"
     ]
    }
   ],
   "source": [
    "#For second test, sub'd X_test_scaled for _test\n",
    "model_loss, model_accuracy = model.evaluate(\n",
    "    X_test, y_test_categorical, verbose=2) \n",
    "print(\n",
    "    f\"Normal Neural Network - Loss: {model_loss}, Accuracy: {model_accuracy}\")"
   ]
  },
  {
   "cell_type": "markdown",
   "metadata": {
    "slideshow": {
     "slide_type": "subslide"
    }
   },
   "source": [
    "## Make Predictions"
   ]
  },
  {
   "cell_type": "code",
   "execution_count": 18,
   "metadata": {
    "nbgrader": {
     "grade": false,
     "grade_id": "cell-f97eb3e97245187b",
     "locked": false,
     "schema_version": 1,
     "solution": true
    },
    "slideshow": {
     "slide_type": "fragment"
    }
   },
   "outputs": [],
   "source": [
    "#For second test, sub'd X_test_scaled for _test\n",
    "encoded_predictions = model.predict_classes(X_test[:100])\n",
    "prediction_labels = label_encoder.inverse_transform(encoded_predictions)"
   ]
  },
  {
   "cell_type": "code",
   "execution_count": 19,
   "metadata": {},
   "outputs": [
    {
     "name": "stdout",
     "output_type": "stream",
     "text": [
      "Predicted classes: [False False False False False False False False False False False False\n",
      " False False False False False False False False False False False False\n",
      " False False False False False False False False False False False False\n",
      " False False False False False False False False False False False False\n",
      " False False False False False False False False False False False False\n",
      " False False False False False False False False False False False False\n",
      " False False False False False False False False False False False False\n",
      " False False False False False False False False False False False False\n",
      " False False False False]\n",
      "Actual Labels: [False, False, False, False, False, False, False, False, False, False, False, False, False, False, False, False, False, False, False, False, False, False, False, False, False, False, False, False, False, False, False, False, False, False, False, False, False, False, False, False, False, False, False, False, False, False, False, False, False, False, False, False, False, False, False, False, False, False, False, False, False, False, False, False, False, False, False, False, False, False, False, False, False, False, False, False, False, False, False, False, False, False, False, False, False, False, False, False, False, False, False, False, False, False, False, False, False, False, False, False]\n"
     ]
    }
   ],
   "source": [
    "print(f\"Predicted classes: {prediction_labels}\")\n",
    "print(f\"Actual Labels: {list(y_test[:100])}\")"
   ]
  },
  {
   "cell_type": "code",
   "execution_count": 20,
   "metadata": {},
   "outputs": [
    {
     "name": "stdout",
     "output_type": "stream",
     "text": [
      "Provide Name for Saved File: DeepLearning_Test3_acc99\n"
     ]
    },
    {
     "ename": "KeyboardInterrupt",
     "evalue": "",
     "output_type": "error",
     "traceback": [
      "\u001b[1;31m---------------------------------------------------------------------------\u001b[0m",
      "\u001b[1;31mKeyboardInterrupt\u001b[0m                         Traceback (most recent call last)",
      "\u001b[1;32mC:\\ProgramData\\Anaconda3\\lib\\site-packages\\ipykernel\\kernelbase.py\u001b[0m in \u001b[0;36m_input_request\u001b[1;34m(self, prompt, ident, parent, password)\u001b[0m\n\u001b[0;32m    728\u001b[0m             \u001b[1;32mtry\u001b[0m\u001b[1;33m:\u001b[0m\u001b[1;33m\u001b[0m\u001b[0m\n\u001b[1;32m--> 729\u001b[1;33m                 \u001b[0mident\u001b[0m\u001b[1;33m,\u001b[0m \u001b[0mreply\u001b[0m \u001b[1;33m=\u001b[0m \u001b[0mself\u001b[0m\u001b[1;33m.\u001b[0m\u001b[0msession\u001b[0m\u001b[1;33m.\u001b[0m\u001b[0mrecv\u001b[0m\u001b[1;33m(\u001b[0m\u001b[0mself\u001b[0m\u001b[1;33m.\u001b[0m\u001b[0mstdin_socket\u001b[0m\u001b[1;33m,\u001b[0m \u001b[1;36m0\u001b[0m\u001b[1;33m)\u001b[0m\u001b[1;33m\u001b[0m\u001b[0m\n\u001b[0m\u001b[0;32m    730\u001b[0m             \u001b[1;32mexcept\u001b[0m \u001b[0mException\u001b[0m\u001b[1;33m:\u001b[0m\u001b[1;33m\u001b[0m\u001b[0m\n",
      "\u001b[1;32mC:\\ProgramData\\Anaconda3\\lib\\site-packages\\jupyter_client\\session.py\u001b[0m in \u001b[0;36mrecv\u001b[1;34m(self, socket, mode, content, copy)\u001b[0m\n\u001b[0;32m    802\u001b[0m         \u001b[1;32mtry\u001b[0m\u001b[1;33m:\u001b[0m\u001b[1;33m\u001b[0m\u001b[0m\n\u001b[1;32m--> 803\u001b[1;33m             \u001b[0mmsg_list\u001b[0m \u001b[1;33m=\u001b[0m \u001b[0msocket\u001b[0m\u001b[1;33m.\u001b[0m\u001b[0mrecv_multipart\u001b[0m\u001b[1;33m(\u001b[0m\u001b[0mmode\u001b[0m\u001b[1;33m,\u001b[0m \u001b[0mcopy\u001b[0m\u001b[1;33m=\u001b[0m\u001b[0mcopy\u001b[0m\u001b[1;33m)\u001b[0m\u001b[1;33m\u001b[0m\u001b[0m\n\u001b[0m\u001b[0;32m    804\u001b[0m         \u001b[1;32mexcept\u001b[0m \u001b[0mzmq\u001b[0m\u001b[1;33m.\u001b[0m\u001b[0mZMQError\u001b[0m \u001b[1;32mas\u001b[0m \u001b[0me\u001b[0m\u001b[1;33m:\u001b[0m\u001b[1;33m\u001b[0m\u001b[0m\n",
      "\u001b[1;32mC:\\ProgramData\\Anaconda3\\lib\\site-packages\\zmq\\sugar\\socket.py\u001b[0m in \u001b[0;36mrecv_multipart\u001b[1;34m(self, flags, copy, track)\u001b[0m\n\u001b[0;32m    465\u001b[0m         \"\"\"\n\u001b[1;32m--> 466\u001b[1;33m         \u001b[0mparts\u001b[0m \u001b[1;33m=\u001b[0m \u001b[1;33m[\u001b[0m\u001b[0mself\u001b[0m\u001b[1;33m.\u001b[0m\u001b[0mrecv\u001b[0m\u001b[1;33m(\u001b[0m\u001b[0mflags\u001b[0m\u001b[1;33m,\u001b[0m \u001b[0mcopy\u001b[0m\u001b[1;33m=\u001b[0m\u001b[0mcopy\u001b[0m\u001b[1;33m,\u001b[0m \u001b[0mtrack\u001b[0m\u001b[1;33m=\u001b[0m\u001b[0mtrack\u001b[0m\u001b[1;33m)\u001b[0m\u001b[1;33m]\u001b[0m\u001b[1;33m\u001b[0m\u001b[0m\n\u001b[0m\u001b[0;32m    467\u001b[0m         \u001b[1;31m# have first part already, only loop while more to receive\u001b[0m\u001b[1;33m\u001b[0m\u001b[1;33m\u001b[0m\u001b[0m\n",
      "\u001b[1;32mzmq/backend/cython/socket.pyx\u001b[0m in \u001b[0;36mzmq.backend.cython.socket.Socket.recv\u001b[1;34m()\u001b[0m\n",
      "\u001b[1;32mzmq/backend/cython/socket.pyx\u001b[0m in \u001b[0;36mzmq.backend.cython.socket.Socket.recv\u001b[1;34m()\u001b[0m\n",
      "\u001b[1;32mzmq/backend/cython/socket.pyx\u001b[0m in \u001b[0;36mzmq.backend.cython.socket._recv_copy\u001b[1;34m()\u001b[0m\n",
      "\u001b[1;32mC:\\ProgramData\\Anaconda3\\lib\\site-packages\\zmq\\backend\\cython\\checkrc.pxd\u001b[0m in \u001b[0;36mzmq.backend.cython.checkrc._check_rc\u001b[1;34m()\u001b[0m\n",
      "\u001b[1;31mKeyboardInterrupt\u001b[0m: ",
      "\nDuring handling of the above exception, another exception occurred:\n",
      "\u001b[1;31mKeyboardInterrupt\u001b[0m                         Traceback (most recent call last)",
      "\u001b[1;32m<ipython-input-20-0af1d6f29b20>\u001b[0m in \u001b[0;36m<module>\u001b[1;34m()\u001b[0m\n\u001b[1;32m----> 1\u001b[1;33m \u001b[0mname\u001b[0m \u001b[1;33m=\u001b[0m \u001b[0minput\u001b[0m\u001b[1;33m(\u001b[0m\u001b[1;34m\"Provide Name for Saved File: \"\u001b[0m\u001b[1;33m)\u001b[0m\u001b[1;33m\u001b[0m\u001b[0m\n\u001b[0m\u001b[0;32m      2\u001b[0m \u001b[1;31m# Save the model\u001b[0m\u001b[1;33m\u001b[0m\u001b[1;33m\u001b[0m\u001b[0m\n\u001b[0;32m      3\u001b[0m \u001b[0mfolder\u001b[0m \u001b[1;33m=\u001b[0m \u001b[1;34m\"Saved Models\"\u001b[0m\u001b[1;33m\u001b[0m\u001b[0m\n\u001b[0;32m      4\u001b[0m \u001b[0mmodel\u001b[0m\u001b[1;33m.\u001b[0m\u001b[0msave\u001b[0m\u001b[1;33m(\u001b[0m\u001b[1;34mf'{folder}\\{name}.h5'\u001b[0m\u001b[1;33m)\u001b[0m\u001b[1;33m\u001b[0m\u001b[0m\n",
      "\u001b[1;32mC:\\ProgramData\\Anaconda3\\lib\\site-packages\\ipykernel\\kernelbase.py\u001b[0m in \u001b[0;36mraw_input\u001b[1;34m(self, prompt)\u001b[0m\n\u001b[0;32m    702\u001b[0m             \u001b[0mself\u001b[0m\u001b[1;33m.\u001b[0m\u001b[0m_parent_ident\u001b[0m\u001b[1;33m,\u001b[0m\u001b[1;33m\u001b[0m\u001b[0m\n\u001b[0;32m    703\u001b[0m             \u001b[0mself\u001b[0m\u001b[1;33m.\u001b[0m\u001b[0m_parent_header\u001b[0m\u001b[1;33m,\u001b[0m\u001b[1;33m\u001b[0m\u001b[0m\n\u001b[1;32m--> 704\u001b[1;33m             \u001b[0mpassword\u001b[0m\u001b[1;33m=\u001b[0m\u001b[1;32mFalse\u001b[0m\u001b[1;33m,\u001b[0m\u001b[1;33m\u001b[0m\u001b[0m\n\u001b[0m\u001b[0;32m    705\u001b[0m         )\n\u001b[0;32m    706\u001b[0m \u001b[1;33m\u001b[0m\u001b[0m\n",
      "\u001b[1;32mC:\\ProgramData\\Anaconda3\\lib\\site-packages\\ipykernel\\kernelbase.py\u001b[0m in \u001b[0;36m_input_request\u001b[1;34m(self, prompt, ident, parent, password)\u001b[0m\n\u001b[0;32m    732\u001b[0m             \u001b[1;32mexcept\u001b[0m \u001b[0mKeyboardInterrupt\u001b[0m\u001b[1;33m:\u001b[0m\u001b[1;33m\u001b[0m\u001b[0m\n\u001b[0;32m    733\u001b[0m                 \u001b[1;31m# re-raise KeyboardInterrupt, to truncate traceback\u001b[0m\u001b[1;33m\u001b[0m\u001b[1;33m\u001b[0m\u001b[0m\n\u001b[1;32m--> 734\u001b[1;33m                 \u001b[1;32mraise\u001b[0m \u001b[0mKeyboardInterrupt\u001b[0m\u001b[1;33m\u001b[0m\u001b[0m\n\u001b[0m\u001b[0;32m    735\u001b[0m             \u001b[1;32melse\u001b[0m\u001b[1;33m:\u001b[0m\u001b[1;33m\u001b[0m\u001b[0m\n\u001b[0;32m    736\u001b[0m                 \u001b[1;32mbreak\u001b[0m\u001b[1;33m\u001b[0m\u001b[0m\n",
      "\u001b[1;31mKeyboardInterrupt\u001b[0m: "
     ]
    }
   ],
   "source": [
    "name = input(\"Provide Name for Saved File: \")\n",
    "# Save the model\n",
    "folder = \"Saved Models\"\n",
    "model.save(f'{folder}\\{name}.h5')"
   ]
  },
  {
   "cell_type": "code",
   "execution_count": null,
   "metadata": {},
   "outputs": [],
   "source": []
  }
 ],
 "metadata": {
  "kernelspec": {
   "display_name": "Python [default]",
   "language": "python",
   "name": "python3"
  },
  "language_info": {
   "codemirror_mode": {
    "name": "ipython",
    "version": 3
   },
   "file_extension": ".py",
   "mimetype": "text/x-python",
   "name": "python",
   "nbconvert_exporter": "python",
   "pygments_lexer": "ipython3",
   "version": "3.6.4"
  },
  "varInspector": {
   "cols": {
    "lenName": 16,
    "lenType": 16,
    "lenVar": 40
   },
   "kernels_config": {
    "python": {
     "delete_cmd_postfix": "",
     "delete_cmd_prefix": "del ",
     "library": "var_list.py",
     "varRefreshCmd": "print(var_dic_list())"
    },
    "r": {
     "delete_cmd_postfix": ") ",
     "delete_cmd_prefix": "rm(",
     "library": "var_list.r",
     "varRefreshCmd": "cat(var_dic_list()) "
    }
   },
   "types_to_exclude": [
    "module",
    "function",
    "builtin_function_or_method",
    "instance",
    "_Feature"
   ],
   "window_display": false
  }
 },
 "nbformat": 4,
 "nbformat_minor": 2
}
