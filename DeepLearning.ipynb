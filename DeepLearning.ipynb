{
 "cells": [
  {
   "cell_type": "code",
   "execution_count": 1,
   "metadata": {
    "slideshow": {
     "slide_type": "subslide"
    }
   },
   "outputs": [],
   "source": [
    "########CLUSTER FIRST, put into groups, append group label to dataframe then run through Deep Learning to find recommended songs.\n",
    "######## Can I pluck out the X closest points\n",
    "\n",
    "\n",
    "# Dependencies\n",
    "import numpy as np\n",
    "import pandas as pd"
   ]
  },
  {
   "cell_type": "code",
   "execution_count": 2,
   "metadata": {
    "slideshow": {
     "slide_type": "fragment"
    }
   },
   "outputs": [
    {
     "data": {
      "text/html": [
       "<div>\n",
       "<style scoped>\n",
       "    .dataframe tbody tr th:only-of-type {\n",
       "        vertical-align: middle;\n",
       "    }\n",
       "\n",
       "    .dataframe tbody tr th {\n",
       "        vertical-align: top;\n",
       "    }\n",
       "\n",
       "    .dataframe thead th {\n",
       "        text-align: right;\n",
       "    }\n",
       "</style>\n",
       "<table border=\"1\" class=\"dataframe\">\n",
       "  <thead>\n",
       "    <tr style=\"text-align: right;\">\n",
       "      <th></th>\n",
       "      <th>popularity</th>\n",
       "      <th>danceability</th>\n",
       "      <th>energy</th>\n",
       "      <th>loudness</th>\n",
       "      <th>speechiness</th>\n",
       "      <th>duration_ms</th>\n",
       "      <th>tempo</th>\n",
       "      <th>class</th>\n",
       "      <th>Score</th>\n",
       "      <th>Input</th>\n",
       "    </tr>\n",
       "  </thead>\n",
       "  <tbody>\n",
       "    <tr>\n",
       "      <th>0</th>\n",
       "      <td>94</td>\n",
       "      <td>0.851</td>\n",
       "      <td>0.541</td>\n",
       "      <td>-6.825</td>\n",
       "      <td>0.0505</td>\n",
       "      <td>235545</td>\n",
       "      <td>124.959</td>\n",
       "      <td>0</td>\n",
       "      <td>34.918375</td>\n",
       "      <td>40.0</td>\n",
       "    </tr>\n",
       "    <tr>\n",
       "      <th>1</th>\n",
       "      <td>97</td>\n",
       "      <td>0.511</td>\n",
       "      <td>0.566</td>\n",
       "      <td>-7.230</td>\n",
       "      <td>0.2000</td>\n",
       "      <td>239836</td>\n",
       "      <td>83.903</td>\n",
       "      <td>0</td>\n",
       "      <td>29.208650</td>\n",
       "      <td>NaN</td>\n",
       "    </tr>\n",
       "    <tr>\n",
       "      <th>2</th>\n",
       "      <td>95</td>\n",
       "      <td>0.680</td>\n",
       "      <td>0.563</td>\n",
       "      <td>-5.843</td>\n",
       "      <td>0.0454</td>\n",
       "      <td>231267</td>\n",
       "      <td>145.028</td>\n",
       "      <td>1</td>\n",
       "      <td>37.809855</td>\n",
       "      <td>NaN</td>\n",
       "    </tr>\n",
       "    <tr>\n",
       "      <th>3</th>\n",
       "      <td>91</td>\n",
       "      <td>0.900</td>\n",
       "      <td>0.653</td>\n",
       "      <td>-6.962</td>\n",
       "      <td>0.2890</td>\n",
       "      <td>145603</td>\n",
       "      <td>112.503</td>\n",
       "      <td>0</td>\n",
       "      <td>30.590125</td>\n",
       "      <td>NaN</td>\n",
       "    </tr>\n",
       "    <tr>\n",
       "      <th>4</th>\n",
       "      <td>84</td>\n",
       "      <td>0.572</td>\n",
       "      <td>0.385</td>\n",
       "      <td>-6.362</td>\n",
       "      <td>0.0308</td>\n",
       "      <td>215733</td>\n",
       "      <td>95.799</td>\n",
       "      <td>0</td>\n",
       "      <td>28.939735</td>\n",
       "      <td>NaN</td>\n",
       "    </tr>\n",
       "  </tbody>\n",
       "</table>\n",
       "</div>"
      ],
      "text/plain": [
       "   popularity  danceability  energy  loudness  speechiness  duration_ms  \\\n",
       "0          94         0.851   0.541    -6.825       0.0505       235545   \n",
       "1          97         0.511   0.566    -7.230       0.2000       239836   \n",
       "2          95         0.680   0.563    -5.843       0.0454       231267   \n",
       "3          91         0.900   0.653    -6.962       0.2890       145603   \n",
       "4          84         0.572   0.385    -6.362       0.0308       215733   \n",
       "\n",
       "     tempo  class      Score  Input  \n",
       "0  124.959      0  34.918375   40.0  \n",
       "1   83.903      0  29.208650    NaN  \n",
       "2  145.028      1  37.809855    NaN  \n",
       "3  112.503      0  30.590125    NaN  \n",
       "4   95.799      0  28.939735    NaN  "
      ]
     },
     "execution_count": 2,
     "metadata": {},
     "output_type": "execute_result"
    }
   ],
   "source": [
    "voice = pd.read_csv('features2.csv')\n",
    "voice.head()"
   ]
  },
  {
   "cell_type": "markdown",
   "metadata": {
    "slideshow": {
     "slide_type": "subslide"
    }
   },
   "source": [
    "## Data Pre-Processing"
   ]
  },
  {
   "cell_type": "code",
   "execution_count": 3,
   "metadata": {
    "nbgrader": {
     "grade": false,
     "grade_id": "cell-86a9e3212f200d21",
     "locked": false,
     "schema_version": 1,
     "solution": true
    },
    "slideshow": {
     "slide_type": "subslide"
    }
   },
   "outputs": [
    {
     "name": "stdout",
     "output_type": "stream",
     "text": [
      "(100, 7) (100,)\n"
     ]
    }
   ],
   "source": [
    "X = voice.drop([\"class\",\"Score\",\"Input\"], axis=1)\n",
    "y = voice[\"class\"]\n",
    "print(X.shape, y.shape)"
   ]
  },
  {
   "cell_type": "code",
   "execution_count": 4,
   "metadata": {
    "nbgrader": {
     "grade": false,
     "grade_id": "cell-711a82d9b32c83ff",
     "locked": false,
     "schema_version": 1,
     "solution": true
    },
    "slideshow": {
     "slide_type": "fragment"
    }
   },
   "outputs": [
    {
     "name": "stderr",
     "output_type": "stream",
     "text": [
      "C:\\ProgramData\\Anaconda3\\lib\\site-packages\\h5py\\__init__.py:36: FutureWarning: Conversion of the second argument of issubdtype from `float` to `np.floating` is deprecated. In future, it will be treated as `np.float64 == np.dtype(float).type`.\n",
      "  from ._conv import register_converters as _register_converters\n",
      "Using TensorFlow backend.\n",
      "C:\\ProgramData\\Anaconda3\\lib\\site-packages\\sklearn\\preprocessing\\data.py:625: DataConversionWarning: Data with input dtype int64, float64 were all converted to float64 by StandardScaler.\n",
      "  return self.partial_fit(X, y)\n",
      "C:\\ProgramData\\Anaconda3\\lib\\site-packages\\ipykernel_launcher.py:8: DataConversionWarning: Data with input dtype int64, float64 were all converted to float64 by StandardScaler.\n",
      "  \n",
      "C:\\ProgramData\\Anaconda3\\lib\\site-packages\\ipykernel_launcher.py:9: DataConversionWarning: Data with input dtype int64, float64 were all converted to float64 by StandardScaler.\n",
      "  if __name__ == '__main__':\n"
     ]
    }
   ],
   "source": [
    "from sklearn.model_selection import train_test_split\n",
    "from sklearn.preprocessing import LabelEncoder, StandardScaler\n",
    "from keras.utils import to_categorical\n",
    "\n",
    "X_train, X_test, y_train, y_test = train_test_split(\n",
    "    X, y, random_state=20, stratify=y)\n",
    "X_scaler = StandardScaler().fit(X_train)\n",
    "X_train_scaled = X_scaler.transform(X_train)\n",
    "X_test_scaled = X_scaler.transform(X_test)\n",
    "\n",
    "\n",
    "# Step 1: Label-encode data set\n",
    "label_encoder = LabelEncoder()\n",
    "label_encoder.fit(y_train)\n",
    "encoded_y_train = label_encoder.transform(y_train)\n",
    "encoded_y_test = label_encoder.transform(y_test)\n",
    "\n",
    "# Step 2: Convert encoded labels to one-hot-encoding\n",
    "y_train_categorical = to_categorical(encoded_y_train)\n",
    "y_test_categorical = to_categorical(encoded_y_test)"
   ]
  },
  {
   "cell_type": "markdown",
   "metadata": {},
   "source": [
    "# Create a Deep Learning Model"
   ]
  },
  {
   "cell_type": "code",
   "execution_count": 5,
   "metadata": {},
   "outputs": [
    {
     "name": "stdout",
     "output_type": "stream",
     "text": [
      "_________________________________________________________________\n",
      "Layer (type)                 Output Shape              Param #   \n",
      "=================================================================\n",
      "dense_1 (Dense)              (None, 100)               800       \n",
      "_________________________________________________________________\n",
      "dense_2 (Dense)              (None, 100)               10100     \n",
      "_________________________________________________________________\n",
      "dense_3 (Dense)              (None, 50)                5050      \n",
      "_________________________________________________________________\n",
      "dense_4 (Dense)              (None, 50)                2550      \n",
      "_________________________________________________________________\n",
      "dense_5 (Dense)              (None, 2)                 102       \n",
      "=================================================================\n",
      "Total params: 18,602\n",
      "Trainable params: 18,602\n",
      "Non-trainable params: 0\n",
      "_________________________________________________________________\n"
     ]
    }
   ],
   "source": [
    "from keras.models import Sequential\n",
    "from keras.layers import Dense\n",
    "\n",
    "# Create model and add layers\n",
    "model = Sequential()\n",
    "model.add(Dense(units=100, activation='selu', input_dim=7))\n",
    "model.add(Dense(units=100, activation='relu'))\n",
    "model.add(Dense(units=50, activation='relu'))\n",
    "model.add(Dense(units=50, activation='relu'))\n",
    "model.add(Dense(units=2, activation='softmax'))\n",
    "\n",
    "model.summary()"
   ]
  },
  {
   "cell_type": "code",
   "execution_count": 6,
   "metadata": {},
   "outputs": [
    {
     "name": "stdout",
     "output_type": "stream",
     "text": [
      "Epoch 1/20\n",
      "75/75 [==============================] - 0s 6ms/step - loss: 0.7309 - acc: 0.4533\n",
      "Epoch 2/20\n",
      "75/75 [==============================] - 0s 134us/step - loss: 0.6053 - acc: 0.7733\n",
      "Epoch 3/20\n",
      "75/75 [==============================] - 0s 207us/step - loss: 0.5231 - acc: 0.7600\n",
      "Epoch 4/20\n",
      "75/75 [==============================] - 0s 220us/step - loss: 0.4548 - acc: 0.7467\n",
      "Epoch 5/20\n",
      "75/75 [==============================] - 0s 120us/step - loss: 0.3937 - acc: 0.8000\n",
      "Epoch 6/20\n",
      "75/75 [==============================] - 0s 107us/step - loss: 0.3415 - acc: 0.8800\n",
      "Epoch 7/20\n",
      "75/75 [==============================] - 0s 133us/step - loss: 0.2932 - acc: 0.9333\n",
      "Epoch 8/20\n",
      "75/75 [==============================] - 0s 120us/step - loss: 0.2542 - acc: 0.9867\n",
      "Epoch 9/20\n",
      "75/75 [==============================] - 0s 147us/step - loss: 0.2152 - acc: 0.9733\n",
      "Epoch 10/20\n",
      "75/75 [==============================] - 0s 187us/step - loss: 0.1865 - acc: 0.9733\n",
      "Epoch 11/20\n",
      "75/75 [==============================] - 0s 200us/step - loss: 0.1539 - acc: 0.9867\n",
      "Epoch 12/20\n",
      "75/75 [==============================] - 0s 187us/step - loss: 0.1292 - acc: 0.9867\n",
      "Epoch 13/20\n",
      "75/75 [==============================] - 0s 160us/step - loss: 0.1082 - acc: 0.9867\n",
      "Epoch 14/20\n",
      "75/75 [==============================] - 0s 107us/step - loss: 0.0901 - acc: 1.0000\n",
      "Epoch 15/20\n",
      "75/75 [==============================] - 0s 107us/step - loss: 0.0752 - acc: 1.0000\n",
      "Epoch 16/20\n",
      "75/75 [==============================] - 0s 113us/step - loss: 0.0645 - acc: 1.0000\n",
      "Epoch 17/20\n",
      "75/75 [==============================] - 0s 133us/step - loss: 0.0516 - acc: 1.0000\n",
      "Epoch 18/20\n",
      "75/75 [==============================] - 0s 160us/step - loss: 0.0465 - acc: 1.0000\n",
      "Epoch 19/20\n",
      "75/75 [==============================] - 0s 120us/step - loss: 0.0367 - acc: 1.0000\n",
      "Epoch 20/20\n",
      "75/75 [==============================] - 0s 93us/step - loss: 0.0304 - acc: 1.0000\n"
     ]
    },
    {
     "data": {
      "text/plain": [
       "<keras.callbacks.History at 0x2466f937f60>"
      ]
     },
     "execution_count": 6,
     "metadata": {},
     "output_type": "execute_result"
    }
   ],
   "source": [
    "# Compile and fit the model\n",
    "model.compile(optimizer='adam',\n",
    "              loss='categorical_crossentropy',\n",
    "              metrics=['accuracy'])\n",
    "model.fit(\n",
    "    X_train_scaled,\n",
    "    y_train_categorical,\n",
    "    epochs=20,\n",
    "    shuffle=True,\n",
    "    verbose=1\n",
    ")"
   ]
  },
  {
   "cell_type": "markdown",
   "metadata": {},
   "source": [
    "## Quantify our Trained Model"
   ]
  },
  {
   "cell_type": "code",
   "execution_count": 7,
   "metadata": {},
   "outputs": [
    {
     "name": "stdout",
     "output_type": "stream",
     "text": [
      "Normal Neural Network - Loss: 0.09980093687772751, Accuracy: 0.9599999785423279\n"
     ]
    }
   ],
   "source": [
    "model_loss, model_accuracy = model.evaluate(\n",
    "    X_test_scaled, y_test_categorical, verbose=2)\n",
    "print(\n",
    "    f\"Normal Neural Network - Loss: {model_loss}, Accuracy: {model_accuracy}\")"
   ]
  },
  {
   "cell_type": "markdown",
   "metadata": {
    "slideshow": {
     "slide_type": "subslide"
    }
   },
   "source": [
    "## Make Predictions"
   ]
  },
  {
   "cell_type": "code",
   "execution_count": 8,
   "metadata": {
    "nbgrader": {
     "grade": false,
     "grade_id": "cell-f97eb3e97245187b",
     "locked": false,
     "schema_version": 1,
     "solution": true
    },
    "slideshow": {
     "slide_type": "fragment"
    }
   },
   "outputs": [],
   "source": [
    "encoded_predictions = model.predict_classes(X_test_scaled[:5])\n",
    "prediction_labels = label_encoder.inverse_transform(encoded_predictions)"
   ]
  },
  {
   "cell_type": "code",
   "execution_count": 9,
   "metadata": {},
   "outputs": [
    {
     "name": "stdout",
     "output_type": "stream",
     "text": [
      "Predicted classes: [0 1 0 1 1]\n",
      "Actual Labels: [0, 1, 0, 1, 1]\n"
     ]
    }
   ],
   "source": [
    "print(f\"Predicted classes: {prediction_labels}\")\n",
    "print(f\"Actual Labels: {list(y_test[:5])}\")"
   ]
  },
  {
   "cell_type": "code",
   "execution_count": null,
   "metadata": {},
   "outputs": [],
   "source": []
  },
  {
   "cell_type": "code",
   "execution_count": null,
   "metadata": {},
   "outputs": [],
   "source": []
  }
 ],
 "metadata": {
  "kernelspec": {
   "display_name": "Python 3",
   "language": "python",
   "name": "python3"
  },
  "language_info": {
   "codemirror_mode": {
    "name": "ipython",
    "version": 3
   },
   "file_extension": ".py",
   "mimetype": "text/x-python",
   "name": "python",
   "nbconvert_exporter": "python",
   "pygments_lexer": "ipython3",
   "version": "3.6.5"
  },
  "varInspector": {
   "cols": {
    "lenName": 16,
    "lenType": 16,
    "lenVar": 40
   },
   "kernels_config": {
    "python": {
     "delete_cmd_postfix": "",
     "delete_cmd_prefix": "del ",
     "library": "var_list.py",
     "varRefreshCmd": "print(var_dic_list())"
    },
    "r": {
     "delete_cmd_postfix": ") ",
     "delete_cmd_prefix": "rm(",
     "library": "var_list.r",
     "varRefreshCmd": "cat(var_dic_list()) "
    }
   },
   "types_to_exclude": [
    "module",
    "function",
    "builtin_function_or_method",
    "instance",
    "_Feature"
   ],
   "window_display": false
  }
 },
 "nbformat": 4,
 "nbformat_minor": 2
}
