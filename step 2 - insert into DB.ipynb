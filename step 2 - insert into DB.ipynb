{
 "cells": [
  {
   "cell_type": "markdown",
   "metadata": {},
   "source": [
    "# Database Engineering"
   ]
  },
  {
   "cell_type": "code",
   "execution_count": 1,
   "metadata": {},
   "outputs": [],
   "source": [
    "# Import dependencies\n",
    "import pandas as pd\n",
    "import csv\n",
    "import numpy as np\n",
    "import sqlalchemy\n",
    "from sqlalchemy.ext.declarative import declarative_base\n",
    "from sqlalchemy import Column, Integer, String, Float, Text, create_engine, MetaData, ForeignKey"
   ]
  },
  {
   "cell_type": "markdown",
   "metadata": {},
   "source": [
    "Use Pandas to read your cleaned measurements and stations CSV data."
   ]
  },
  {
   "cell_type": "code",
   "execution_count": 2,
   "metadata": {},
   "outputs": [
    {
     "data": {
      "text/html": [
       "<div>\n",
       "<style scoped>\n",
       "    .dataframe tbody tr th:only-of-type {\n",
       "        vertical-align: middle;\n",
       "    }\n",
       "\n",
       "    .dataframe tbody tr th {\n",
       "        vertical-align: top;\n",
       "    }\n",
       "\n",
       "    .dataframe thead th {\n",
       "        text-align: right;\n",
       "    }\n",
       "</style>\n",
       "<table border=\"1\" class=\"dataframe\">\n",
       "  <thead>\n",
       "    <tr style=\"text-align: right;\">\n",
       "      <th></th>\n",
       "      <th>id</th>\n",
       "      <th>country</th>\n",
       "      <th>lat</th>\n",
       "      <th>lon</th>\n",
       "    </tr>\n",
       "  </thead>\n",
       "  <tbody>\n",
       "    <tr>\n",
       "      <th>0</th>\n",
       "      <td>0</td>\n",
       "      <td>Italy</td>\n",
       "      <td>42.833333</td>\n",
       "      <td>12.833333</td>\n",
       "    </tr>\n",
       "    <tr>\n",
       "      <th>1</th>\n",
       "      <td>1</td>\n",
       "      <td>Portugal</td>\n",
       "      <td>39.500000</td>\n",
       "      <td>-8.000000</td>\n",
       "    </tr>\n",
       "    <tr>\n",
       "      <th>2</th>\n",
       "      <td>2</td>\n",
       "      <td>US</td>\n",
       "      <td>39.828175</td>\n",
       "      <td>-98.579500</td>\n",
       "    </tr>\n",
       "    <tr>\n",
       "      <th>3</th>\n",
       "      <td>3</td>\n",
       "      <td>Spain</td>\n",
       "      <td>40.000000</td>\n",
       "      <td>-4.000000</td>\n",
       "    </tr>\n",
       "    <tr>\n",
       "      <th>4</th>\n",
       "      <td>4</td>\n",
       "      <td>France</td>\n",
       "      <td>46.000000</td>\n",
       "      <td>2.000000</td>\n",
       "    </tr>\n",
       "  </tbody>\n",
       "</table>\n",
       "</div>"
      ],
      "text/plain": [
       "   id   country        lat        lon\n",
       "0   0     Italy  42.833333  12.833333\n",
       "1   1  Portugal  39.500000  -8.000000\n",
       "2   2        US  39.828175 -98.579500\n",
       "3   3     Spain  40.000000  -4.000000\n",
       "4   4    France  46.000000   2.000000"
      ]
     },
     "execution_count": 2,
     "metadata": {},
     "output_type": "execute_result"
    }
   ],
   "source": [
    "# Import Countries CSVs\n",
    "df_countries = pd.read_csv(\"countries.csv\")\n",
    "df_countries.head()"
   ]
  },
  {
   "cell_type": "code",
   "execution_count": 3,
   "metadata": {},
   "outputs": [
    {
     "data": {
      "text/html": [
       "<div>\n",
       "<style scoped>\n",
       "    .dataframe tbody tr th:only-of-type {\n",
       "        vertical-align: middle;\n",
       "    }\n",
       "\n",
       "    .dataframe tbody tr th {\n",
       "        vertical-align: top;\n",
       "    }\n",
       "\n",
       "    .dataframe thead th {\n",
       "        text-align: right;\n",
       "    }\n",
       "</style>\n",
       "<table border=\"1\" class=\"dataframe\">\n",
       "  <thead>\n",
       "    <tr style=\"text-align: right;\">\n",
       "      <th></th>\n",
       "      <th>id</th>\n",
       "      <th>province</th>\n",
       "      <th>pro_lat</th>\n",
       "      <th>pro_lon</th>\n",
       "      <th>country_id</th>\n",
       "    </tr>\n",
       "  </thead>\n",
       "  <tbody>\n",
       "    <tr>\n",
       "      <th>0</th>\n",
       "      <td>0</td>\n",
       "      <td>Sicily &amp; Sardinia</td>\n",
       "      <td>37.599994</td>\n",
       "      <td>14.015356</td>\n",
       "      <td>0</td>\n",
       "    </tr>\n",
       "    <tr>\n",
       "      <th>1</th>\n",
       "      <td>1</td>\n",
       "      <td>Douro</td>\n",
       "      <td>41.512019</td>\n",
       "      <td>-5.492255</td>\n",
       "      <td>1</td>\n",
       "    </tr>\n",
       "    <tr>\n",
       "      <th>2</th>\n",
       "      <td>2</td>\n",
       "      <td>Oregon</td>\n",
       "      <td>43.804133</td>\n",
       "      <td>-120.554201</td>\n",
       "      <td>2</td>\n",
       "    </tr>\n",
       "    <tr>\n",
       "      <th>3</th>\n",
       "      <td>3</td>\n",
       "      <td>Michigan</td>\n",
       "      <td>44.314844</td>\n",
       "      <td>-85.602364</td>\n",
       "      <td>2</td>\n",
       "    </tr>\n",
       "    <tr>\n",
       "      <th>4</th>\n",
       "      <td>4</td>\n",
       "      <td>Northern Spain</td>\n",
       "      <td>43.263588</td>\n",
       "      <td>-2.929068</td>\n",
       "      <td>3</td>\n",
       "    </tr>\n",
       "  </tbody>\n",
       "</table>\n",
       "</div>"
      ],
      "text/plain": [
       "   id           province    pro_lat     pro_lon  country_id\n",
       "0   0  Sicily & Sardinia  37.599994   14.015356           0\n",
       "1   1              Douro  41.512019   -5.492255           1\n",
       "2   2             Oregon  43.804133 -120.554201           2\n",
       "3   3           Michigan  44.314844  -85.602364           2\n",
       "4   4     Northern Spain  43.263588   -2.929068           3"
      ]
     },
     "execution_count": 3,
     "metadata": {},
     "output_type": "execute_result"
    }
   ],
   "source": [
    "# Import Province CSV\n",
    "df_provinces = pd.read_csv(\"provinces.csv\")\n",
    "df_provinces.head()"
   ]
  },
  {
   "cell_type": "code",
   "execution_count": 4,
   "metadata": {},
   "outputs": [
    {
     "data": {
      "text/html": [
       "<div>\n",
       "<style scoped>\n",
       "    .dataframe tbody tr th:only-of-type {\n",
       "        vertical-align: middle;\n",
       "    }\n",
       "\n",
       "    .dataframe tbody tr th {\n",
       "        vertical-align: top;\n",
       "    }\n",
       "\n",
       "    .dataframe thead th {\n",
       "        text-align: right;\n",
       "    }\n",
       "</style>\n",
       "<table border=\"1\" class=\"dataframe\">\n",
       "  <thead>\n",
       "    <tr style=\"text-align: right;\">\n",
       "      <th></th>\n",
       "      <th>id</th>\n",
       "      <th>winery</th>\n",
       "      <th>country_id</th>\n",
       "      <th>province_id</th>\n",
       "    </tr>\n",
       "  </thead>\n",
       "  <tbody>\n",
       "    <tr>\n",
       "      <th>0</th>\n",
       "      <td>0</td>\n",
       "      <td>Nicosia</td>\n",
       "      <td>0</td>\n",
       "      <td>0</td>\n",
       "    </tr>\n",
       "    <tr>\n",
       "      <th>1</th>\n",
       "      <td>1</td>\n",
       "      <td>Quinta dos Avidagos</td>\n",
       "      <td>1</td>\n",
       "      <td>1</td>\n",
       "    </tr>\n",
       "    <tr>\n",
       "      <th>2</th>\n",
       "      <td>2</td>\n",
       "      <td>Rainstorm</td>\n",
       "      <td>2</td>\n",
       "      <td>2</td>\n",
       "    </tr>\n",
       "    <tr>\n",
       "      <th>3</th>\n",
       "      <td>3</td>\n",
       "      <td>St. Julian</td>\n",
       "      <td>2</td>\n",
       "      <td>3</td>\n",
       "    </tr>\n",
       "    <tr>\n",
       "      <th>4</th>\n",
       "      <td>4</td>\n",
       "      <td>Sweet Cheeks</td>\n",
       "      <td>2</td>\n",
       "      <td>2</td>\n",
       "    </tr>\n",
       "  </tbody>\n",
       "</table>\n",
       "</div>"
      ],
      "text/plain": [
       "   id               winery  country_id  province_id\n",
       "0   0              Nicosia           0            0\n",
       "1   1  Quinta dos Avidagos           1            1\n",
       "2   2            Rainstorm           2            2\n",
       "3   3           St. Julian           2            3\n",
       "4   4         Sweet Cheeks           2            2"
      ]
     },
     "execution_count": 4,
     "metadata": {},
     "output_type": "execute_result"
    }
   ],
   "source": [
    "# Import Wineries CSV\n",
    "df_wineries = pd.read_csv(\"wineries.csv\")\n",
    "df_wineries.head()"
   ]
  },
  {
   "cell_type": "code",
   "execution_count": 5,
   "metadata": {},
   "outputs": [
    {
     "data": {
      "text/html": [
       "<div>\n",
       "<style scoped>\n",
       "    .dataframe tbody tr th:only-of-type {\n",
       "        vertical-align: middle;\n",
       "    }\n",
       "\n",
       "    .dataframe tbody tr th {\n",
       "        vertical-align: top;\n",
       "    }\n",
       "\n",
       "    .dataframe thead th {\n",
       "        text-align: right;\n",
       "    }\n",
       "</style>\n",
       "<table border=\"1\" class=\"dataframe\">\n",
       "  <thead>\n",
       "    <tr style=\"text-align: right;\">\n",
       "      <th></th>\n",
       "      <th>id</th>\n",
       "      <th>title</th>\n",
       "      <th>variety</th>\n",
       "      <th>price</th>\n",
       "      <th>points</th>\n",
       "      <th>country_id</th>\n",
       "      <th>province_id</th>\n",
       "      <th>winery_id</th>\n",
       "    </tr>\n",
       "  </thead>\n",
       "  <tbody>\n",
       "    <tr>\n",
       "      <th>0</th>\n",
       "      <td>0</td>\n",
       "      <td>Nicosia 2013 Vulkà Bianco  (Etna)</td>\n",
       "      <td>White Blend</td>\n",
       "      <td>0</td>\n",
       "      <td>87</td>\n",
       "      <td>0.0</td>\n",
       "      <td>0.0</td>\n",
       "      <td>0.0</td>\n",
       "    </tr>\n",
       "    <tr>\n",
       "      <th>1</th>\n",
       "      <td>1</td>\n",
       "      <td>Quinta dos Avidagos 2011 Avidagos Red (Douro)</td>\n",
       "      <td>Portuguese Red</td>\n",
       "      <td>15</td>\n",
       "      <td>87</td>\n",
       "      <td>1.0</td>\n",
       "      <td>1.0</td>\n",
       "      <td>1.0</td>\n",
       "    </tr>\n",
       "    <tr>\n",
       "      <th>2</th>\n",
       "      <td>2</td>\n",
       "      <td>Rainstorm 2013 Pinot Gris (Willamette Valley)</td>\n",
       "      <td>Pinot Gris</td>\n",
       "      <td>14</td>\n",
       "      <td>87</td>\n",
       "      <td>2.0</td>\n",
       "      <td>2.0</td>\n",
       "      <td>2.0</td>\n",
       "    </tr>\n",
       "    <tr>\n",
       "      <th>3</th>\n",
       "      <td>3</td>\n",
       "      <td>St. Julian 2013 Reserve Late Harvest Riesling ...</td>\n",
       "      <td>Riesling</td>\n",
       "      <td>13</td>\n",
       "      <td>87</td>\n",
       "      <td>2.0</td>\n",
       "      <td>3.0</td>\n",
       "      <td>3.0</td>\n",
       "    </tr>\n",
       "    <tr>\n",
       "      <th>4</th>\n",
       "      <td>4</td>\n",
       "      <td>Sweet Cheeks 2012 Vintner's Reserve Wild Child...</td>\n",
       "      <td>Pinot Noir</td>\n",
       "      <td>65</td>\n",
       "      <td>87</td>\n",
       "      <td>2.0</td>\n",
       "      <td>2.0</td>\n",
       "      <td>2.0</td>\n",
       "    </tr>\n",
       "  </tbody>\n",
       "</table>\n",
       "</div>"
      ],
      "text/plain": [
       "   id                                              title         variety  \\\n",
       "0   0                  Nicosia 2013 Vulkà Bianco  (Etna)     White Blend   \n",
       "1   1      Quinta dos Avidagos 2011 Avidagos Red (Douro)  Portuguese Red   \n",
       "2   2      Rainstorm 2013 Pinot Gris (Willamette Valley)      Pinot Gris   \n",
       "3   3  St. Julian 2013 Reserve Late Harvest Riesling ...        Riesling   \n",
       "4   4  Sweet Cheeks 2012 Vintner's Reserve Wild Child...      Pinot Noir   \n",
       "\n",
       "   price  points  country_id  province_id  winery_id  \n",
       "0      0      87         0.0          0.0        0.0  \n",
       "1     15      87         1.0          1.0        1.0  \n",
       "2     14      87         2.0          2.0        2.0  \n",
       "3     13      87         2.0          3.0        3.0  \n",
       "4     65      87         2.0          2.0        2.0  "
      ]
     },
     "execution_count": 5,
     "metadata": {},
     "output_type": "execute_result"
    }
   ],
   "source": [
    "# Import Wines CSV\n",
    "df_wines = pd.read_csv(\"wines.csv\")\n",
    "df_wines.head()"
   ]
  },
  {
   "cell_type": "markdown",
   "metadata": {},
   "source": [
    "Use the engine and connection string to create a database called hawaii.sqlite."
   ]
  },
  {
   "cell_type": "code",
   "execution_count": 6,
   "metadata": {},
   "outputs": [],
   "source": [
    "# Create Engine and Connect it\n",
    "engine = create_engine(\"sqlite:///winetasting.sqlite\")\n",
    "\n",
    "conn = engine.connect()"
   ]
  },
  {
   "cell_type": "markdown",
   "metadata": {},
   "source": [
    "# Use declarative_base and create ORM classes for each table.\n",
    "\n",
    "\n",
    "You will need a class for Measurement and for Station.\n",
    "Make sure to define your primary keys."
   ]
  },
  {
   "cell_type": "code",
   "execution_count": 7,
   "metadata": {},
   "outputs": [],
   "source": [
    "# Set dec_base, primary/foreign keys, and classes for two items\n",
    "Base = declarative_base()\n",
    "\n",
    "class Countries(Base):\n",
    "    __tablename__ = 'countries'\n",
    "    id = Column(Integer)\n",
    "    country = Column(String(40), ForeignKey('provinces.country_id'), primary_key = True)\n",
    "    lat = Column(Float)\n",
    "    lon = Column(Float)\n",
    "    \n",
    "class Provinces(Base):\n",
    "    __tablename__ = 'provinces'\n",
    "    id = Column(Integer, primary_key = True)\n",
    "    country_id = Column(String(20), ForeignKey('wineries.country_id'))\n",
    "    province = Column(String (50))\n",
    "    pro_lon = Column(Float)\n",
    "    pro_lat = Column(Float)\n",
    "\n",
    "class Wineries(Base):\n",
    "    __tablename__ = 'wineries'\n",
    "    id = Column(Integer, primary_key = True)\n",
    "    country_id = Column(String(20), ForeignKey('wines.country_id'))\n",
    "    province_id = Column(Float)\n",
    "    winery = Column(String(40))\n",
    "    \n",
    "class Wines(Base):\n",
    "    __tablename__ = 'wines'\n",
    "    id = Column(Integer, primary_key = True)\n",
    "    country_id = Column(String(20), ForeignKey('provinces.country_id'))\n",
    "    province_id = Column(Float)\n",
    "    winery_id = Column(Float)\n",
    "    title = Column(String(255))\n",
    "    variety = Column(String(40))\n",
    "    points = Column(Float)\n",
    "    price = Column(Float)"
   ]
  },
  {
   "cell_type": "markdown",
   "metadata": {},
   "source": [
    "Once you have your ORM classes defined, create the tables in the database using 'create_all'."
   ]
  },
  {
   "cell_type": "code",
   "execution_count": 8,
   "metadata": {},
   "outputs": [],
   "source": [
    "# Create database with the newly created classes inside of it\n",
    "Base.metadata.create_all(engine)"
   ]
  },
  {
   "cell_type": "code",
   "execution_count": 9,
   "metadata": {},
   "outputs": [
    {
     "data": {
      "text/plain": [
       "{'id': 0,\n",
       " 'title': 'Nicosia 2013 Vulkà Bianco  (Etna)',\n",
       " 'variety': 'White Blend',\n",
       " 'price': 0,\n",
       " 'points': 87,\n",
       " 'country_id': 0.0,\n",
       " 'province_id': 0.0,\n",
       " 'winery_id': 0.0}"
      ]
     },
     "execution_count": 9,
     "metadata": {},
     "output_type": "execute_result"
    }
   ],
   "source": [
    "# Bring in CSV files and change them from simple pandas to records-type pandas\n",
    "df_countries_clean = pd.read_csv('countries.csv')\n",
    "df_provinces_clean = pd.read_csv('provinces.csv')\n",
    "df_wineries_clean = pd.read_csv('wineries.csv')\n",
    "df_wines_clean = pd.read_csv('wines.csv')\n",
    "\n",
    "\n",
    "countries_data = df_countries_clean.to_dict(orient='records')\n",
    "provinces_data = df_provinces_clean.to_dict(orient='records')\n",
    "wineries_data = df_wineries_clean.to_dict(orient='records')\n",
    "wines_data = df_wines_clean.to_dict(orient='records')\n",
    "wines_data[0]"
   ]
  },
  {
   "cell_type": "code",
   "execution_count": 10,
   "metadata": {},
   "outputs": [],
   "source": [
    "# Create metadata item to be used in creating the tables\n",
    "metadata = MetaData(bind=engine)\n",
    "metadata.reflect()"
   ]
  },
  {
   "cell_type": "code",
   "execution_count": 11,
   "metadata": {},
   "outputs": [],
   "source": [
    "# Create tables\n",
    "tab_countries = sqlalchemy.Table('countries', metadata, autoload=True)\n",
    "tab_provinces = sqlalchemy.Table('provinces', metadata, autoload = True)\n",
    "tab_wineries = sqlalchemy.Table('wineries', metadata, autoload=True)\n",
    "tab_wines = sqlalchemy.Table('wines', metadata, autoload=True)"
   ]
  },
  {
   "cell_type": "code",
   "execution_count": 12,
   "metadata": {},
   "outputs": [
    {
     "data": {
      "text/plain": [
       "<sqlalchemy.engine.result.ResultProxy at 0x2319c1e2908>"
      ]
     },
     "execution_count": 12,
     "metadata": {},
     "output_type": "execute_result"
    }
   ],
   "source": [
    "# Insert the panda records into the tables, column by column\n",
    "conn.execute(tab_countries.insert(), countries_data)\n",
    "conn.execute(tab_provinces.insert(), provinces_data)\n",
    "conn.execute(tab_wineries.insert(), wineries_data)\n",
    "conn.execute(tab_wines.insert(), wines_data)"
   ]
  },
  {
   "cell_type": "code",
   "execution_count": 13,
   "metadata": {},
   "outputs": [
    {
     "data": {
      "text/plain": [
       "[(0, 'Italy', 42.833333, 12.833333),\n",
       " (1, 'Portugal', 39.5, -8.0),\n",
       " (2, 'US', 39.828175, -98.5795),\n",
       " (3, 'Spain', 40.0, -4.0),\n",
       " (4, 'France', 46.0, 2.0),\n",
       " (5, 'Germany', 51.5, 10.5),\n",
       " (6, 'Argentina', -34.0, -64.0),\n",
       " (7, 'Chile', -30.0, -71.0),\n",
       " (8, 'Australia', -25.0, 135.0),\n",
       " (9, 'Austria', 47.333333, 13.333332999999998)]"
      ]
     },
     "execution_count": 13,
     "metadata": {},
     "output_type": "execute_result"
    }
   ],
   "source": [
    "# Verify that the info has been inserted into the table.\n",
    "conn.execute(\"select * from countries limit 10\").fetchall()"
   ]
  },
  {
   "cell_type": "code",
   "execution_count": 14,
   "metadata": {},
   "outputs": [
    {
     "data": {
      "text/plain": [
       "[(0, '0', 'Sicily & Sardinia', 14.0153557, 37.5999938),\n",
       " (1, '1', 'Douro', -5.4922547999999995, 41.51201939999999),\n",
       " (2, '2', 'Oregon', -120.55420120000001, 43.8041334),\n",
       " (3, '2', 'Michigan', -85.60236429999999, 44.3148443),\n",
       " (4, '3', 'Northern Spain', -2.9290679, 43.263588299999995),\n",
       " (5, '4', 'Alsace', 7.441624099999999, 48.3181795),\n",
       " (6, '5', 'Rheinhessen', 10.5, 51.5),\n",
       " (7, '2', 'California', -119.4179324, 36.778261),\n",
       " (8, '5', 'Mosel', 6.739917299999999, 49.1169679),\n",
       " (9, '6', 'Other', -64.0, -34.0)]"
      ]
     },
     "execution_count": 14,
     "metadata": {},
     "output_type": "execute_result"
    }
   ],
   "source": [
    "# Verify that the info has been inserted into the table.\n",
    "conn.execute(\"select * from provinces limit 10\").fetchall()"
   ]
  },
  {
   "cell_type": "code",
   "execution_count": 15,
   "metadata": {},
   "outputs": [
    {
     "data": {
      "text/plain": [
       "[(0, '0', 0.0, 'Nicosia'),\n",
       " (1, '1', 1.0, 'Quinta dos Avidagos'),\n",
       " (2, '2', 2.0, 'Rainstorm'),\n",
       " (3, '2', 3.0, 'St. Julian'),\n",
       " (4, '2', 2.0, 'Sweet Cheeks'),\n",
       " (5, '3', 4.0, 'Tandem'),\n",
       " (6, '0', 0.0, 'Terre di Giurfo'),\n",
       " (7, '4', 5.0, 'Trimbach'),\n",
       " (8, '5', 6.0, 'Heinz Eifel'),\n",
       " (9, '4', 5.0, 'Jean-Baptiste Adam')]"
      ]
     },
     "execution_count": 15,
     "metadata": {},
     "output_type": "execute_result"
    }
   ],
   "source": [
    "conn.execute(\"select * from wineries limit 10\").fetchall()"
   ]
  },
  {
   "cell_type": "code",
   "execution_count": 16,
   "metadata": {},
   "outputs": [
    {
     "data": {
      "text/plain": [
       "[(0, '0.0', 0.0, 0.0, 'Nicosia 2013 Vulkà Bianco  (Etna)', 'White Blend', 87.0, 0.0),\n",
       " (1, '1.0', 1.0, 1.0, 'Quinta dos Avidagos 2011 Avidagos Red (Douro)', 'Portuguese Red', 87.0, 15.0),\n",
       " (2, '2.0', 2.0, 2.0, 'Rainstorm 2013 Pinot Gris (Willamette Valley)', 'Pinot Gris', 87.0, 14.0),\n",
       " (3, '2.0', 3.0, 3.0, 'St. Julian 2013 Reserve Late Harvest Riesling (Lake Michigan Shore)', 'Riesling', 87.0, 13.0),\n",
       " (4, '2.0', 2.0, 2.0, \"Sweet Cheeks 2012 Vintner's Reserve Wild Child Block Pinot Noir (Willamette Valley)\", 'Pinot Noir', 87.0, 65.0),\n",
       " (5, '3.0', 4.0, 4.0, 'Tandem 2011 Ars In Vitro Tempranillo-Merlot (Navarra)', 'Tempranillo-Merlot', 87.0, 15.0),\n",
       " (6, '0.0', 0.0, 0.0, 'Terre di Giurfo 2013 Belsito Frappato (Vittoria)', 'Frappato', 87.0, 16.0),\n",
       " (7, '4.0', 5.0, 5.0, 'Trimbach 2012 Gewurztraminer (Alsace)', 'Gewürztraminer', 87.0, 24.0),\n",
       " (8, '5.0', 6.0, 6.0, 'Heinz Eifel 2013 Shine Gewürztraminer (Rheinhessen)', 'Gewürztraminer', 87.0, 12.0),\n",
       " (9, '4.0', 5.0, 5.0, 'Jean-Baptiste Adam 2012 Les Natures Pinot Gris (Alsace)', 'Pinot Gris', 87.0, 27.0)]"
      ]
     },
     "execution_count": 16,
     "metadata": {},
     "output_type": "execute_result"
    }
   ],
   "source": [
    "conn.execute(\"select * from wines limit 10\").fetchall()"
   ]
  },
  {
   "cell_type": "code",
   "execution_count": null,
   "metadata": {},
   "outputs": [],
   "source": []
  }
 ],
 "metadata": {
  "kernelspec": {
   "display_name": "Python 3",
   "language": "python",
   "name": "python3"
  },
  "language_info": {
   "codemirror_mode": {
    "name": "ipython",
    "version": 3
   },
   "file_extension": ".py",
   "mimetype": "text/x-python",
   "name": "python",
   "nbconvert_exporter": "python",
   "pygments_lexer": "ipython3",
   "version": "3.6.5"
  }
 },
 "nbformat": 4,
 "nbformat_minor": 2
}
