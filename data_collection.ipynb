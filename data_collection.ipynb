{
 "cells": [
  {
   "cell_type": "code",
   "execution_count": 63,
   "metadata": {},
   "outputs": [],
   "source": [
    "# Import Dependencies\n",
    "import billboard\n",
    "import sqlite3\n",
    "from sqlalchemy import create_engine\n",
    "import requests\n",
    "import json\n",
    "from collections import Counter\n"
   ]
  },
  {
   "cell_type": "code",
   "execution_count": 45,
   "metadata": {
    "scrolled": true
   },
   "outputs": [],
   "source": [
    "# Call hot 100 tracks billbaord API using billboard library\n",
    "chart = billboard.ChartData('hot-100')\n",
    "\n",
    "songs = []\n",
    "\n",
    "for song in chart:\n",
    "    \n",
    "#     Add songs and artists to list for API calls\n",
    "    songs.append(song.title)"
   ]
  },
  {
   "cell_type": "code",
   "execution_count": 46,
   "metadata": {},
   "outputs": [],
   "source": [
    "# Call top 200 tracks billbaord API using billboard library\n",
    "chart = billboard.ChartData('artist-100')\n",
    "\n",
    "artists = []\n",
    "\n",
    "for artist in chart:\n",
    "    \n",
    "    artists.append(artist.artist)\n"
   ]
  },
  {
   "cell_type": "code",
   "execution_count": 33,
   "metadata": {},
   "outputs": [],
   "source": [
    "# Access token for Spotify API calls\n",
    "# Enter your access_token given to you. Will import have to figure out a way to import from js\n",
    "\n",
    "access_token = \"BQCffk6PNl2jAPWa5kDZ6kefaNNnf_V6GQvXjkUAqAkFjNvA219Duz3CGXBE_F8dSuKjmcl5Pg1A6wnbKks3xK53UlVevHWxFGT1RM6NitsVmCk3F7xJoE5r9iHCSPBK6scqXHjVDmlliPwGSiEWKrr7-nwJqEQXi0Qj\""
   ]
  },
  {
   "cell_type": "code",
   "execution_count": 14,
   "metadata": {
    "scrolled": true
   },
   "outputs": [],
   "source": [
    "\n",
    "top_songs_json = []\n",
    "song_ids = []\n",
    "popularity = []\n",
    "markets = []\n",
    "\n",
    "for song in songs:\n",
    "    \n",
    "#     Spotify API search endpoint returns list of tracks matching track title in order of popularity\n",
    "    endpoint = f\"https://api.spotify.com/v1/search?q={song}&type=track\"\n",
    "    headers = {\"Authorization\":f\"Bearer {access_token}\"}\n",
    "\n",
    "    response = requests.get(endpoint,headers=headers).json()\n",
    "    \n",
    "    try:\n",
    "#         Apped first json object to list (The most popular track matching search criteria)\n",
    "        track = response[\"tracks\"][\"items\"][0]\n",
    "        top_songs_json.append(track)\n",
    "        \n",
    "#         Append song_id for use in second API Call\n",
    "        song_id = response[\"tracks\"][\"items\"][0][\"id\"]\n",
    "        song_ids.append(song_id)\n",
    "        \n",
    "        #  Append markets \n",
    "        market = response[\"tracks\"][\"items\"][0][\"available_markets\"]\n",
    "        markets.append(market)\n",
    "        \n",
    "    except: \n",
    "#         Alert for any track that was not appended to lists\n",
    "        print(\"Song not Found\")\n",
    "        print(json.dumps(response[\"tracks\"][\"items\"][0][\"artists\"],indent=4))\n"
   ]
  },
  {
   "cell_type": "code",
   "execution_count": 15,
   "metadata": {
    "scrolled": false
   },
   "outputs": [
    {
     "name": "stdout",
     "output_type": "stream",
     "text": [
      "100\n"
     ]
    }
   ],
   "source": [
    "# Verify list length\n",
    "print(len(song_ids))"
   ]
  },
  {
   "cell_type": "code",
   "execution_count": 59,
   "metadata": {},
   "outputs": [
    {
     "name": "stdout",
     "output_type": "stream",
     "text": [
      "{'AD': 100, 'AR': 100, 'AT': 100, 'AU': 100, 'BE': 100, 'BG': 100, 'BO': 100, 'BR': 100, 'CA': 100, 'CH': 100, 'CL': 100, 'CO': 100, 'CR': 100, 'CY': 100, 'CZ': 100, 'DE': 100, 'DK': 100, 'DO': 100, 'EC': 100, 'EE': 100, 'ES': 100, 'FI': 100, 'FR': 100, 'GB': 100, 'GR': 100, 'GT': 100, 'HK': 100, 'HN': 100, 'HU': 100, 'ID': 100, 'IE': 100, 'IL': 100, 'IS': 100, 'IT': 100, 'JP': 100, 'LI': 100, 'LT': 100, 'LU': 100, 'LV': 100, 'MC': 100, 'MT': 100, 'MX': 100, 'MY': 100, 'NI': 100, 'NL': 100, 'NO': 100, 'NZ': 100, 'PA': 100, 'PE': 100, 'PH': 100, 'PL': 100, 'PT': 100, 'PY': 100, 'RO': 100, 'SE': 100, 'SG': 100, 'SK': 100, 'SV': 100, 'TH': 100, 'TR': 100, 'TW': 100, 'US': 100, 'UY': 100, 'VN': 100, 'ZA': 100}\n"
     ]
    }
   ],
   "source": [
    "# Count the number of countries in which each song is available\n",
    "market_counter = Counter(x for sublist in markets for x in sublist)\n",
    "\n",
    "# Convert counter object to dictionary\n",
    "market_counter = dict(market_counter)\n",
    "\n",
    "print(market_counter)"
   ]
  },
  {
   "cell_type": "code",
   "execution_count": 60,
   "metadata": {},
   "outputs": [],
   "source": [
    "market_dic = []\n",
    "\n",
    "# Reformat dictionary for addtion to database\n",
    "for key, value in market_counter.items():\n",
    "    temp = {\"country_code\": key,\n",
    "           \"market_count\": value}\n",
    "    market_dic.append(temp)\n",
    "    \n",
    "# print(market_dic)"
   ]
  },
  {
   "cell_type": "code",
   "execution_count": null,
   "metadata": {},
   "outputs": [],
   "source": [
    "# raw json\n",
    "audio_features = []\n",
    "\n",
    "# List to Load into db\n",
    "features = []\n",
    "\n",
    "for song_id in song_ids:\n",
    "    \n",
    "#     Call Spotify API to collect Audio features data\n",
    "    endpoint = f\"https://api.spotify.com/v1/audio-features/{song_id}\"\n",
    "    headers = {\"Authorization\":f\"Bearer {access_token}\"}\n",
    "\n",
    "    response = requests.get(endpoint,headers=headers).json()\n",
    "    \n",
    "    song_id = response[\"id\"]\n",
    "    \n",
    "    endpoint2 = f\"https://api.spotify.com/v1/tracks/{song_id}\"\n",
    "    headers2 = {\"Authorization\":f\"Bearer {access_token}\"}\n",
    "\n",
    "    response2 = requests.get(endpoint2,headers=headers2).json()\n",
    "    \n",
    "#     Append raw json to list\n",
    "    audio_features.append(response)\n",
    "\n",
    "    \n",
    "#     Append each feature\n",
    "    features.append({\n",
    "        \"id\": response[\"id\"],\n",
    "        \"popularity\": response2[\"popularity\"],\n",
    "        \"danceability\": response[\"danceability\"],\n",
    "        \"energy\": response[\"energy\"],\n",
    "        \"loudness\": response[\"loudness\"],\n",
    "        \"speechiness\": response[\"speechiness\"],\n",
    "        \"duration_ms\": response[\"duration_ms\"],\n",
    "        \"tempo\": response[\"tempo\"]\n",
    "    })\n",
    "    "
   ]
  },
  {
   "cell_type": "code",
   "execution_count": null,
   "metadata": {},
   "outputs": [],
   "source": [
    "# print(features)\n",
    "print(artists)"
   ]
  },
  {
   "cell_type": "code",
   "execution_count": 50,
   "metadata": {},
   "outputs": [],
   "source": [
    "genres = []\n",
    "\n",
    "for artist in artists:\n",
    "    \n",
    "#     Spotify API search endpoint returns list of tracks matching track title in order of popularity\n",
    "    endpoint = f\"https://api.spotify.com/v1/search?q={artist}&type=artist\"\n",
    "    headers = {\"Authorization\":f\"Bearer {access_token}\"}\n",
    "\n",
    "    response = requests.get(endpoint,headers=headers).json()\n",
    "    try:\n",
    "#       Append list of genres for each artist\n",
    "        genre = response[\"artists\"][\"items\"][0][\"genres\"]\n",
    "        genres.append(genre)\n",
    "    except:\n",
    "#       Print each artist not found in API call\n",
    "        print(f\"Artist not found: {artist}\")\n",
    "    "
   ]
  },
  {
   "cell_type": "code",
   "execution_count": 58,
   "metadata": {},
   "outputs": [
    {
     "name": "stdout",
     "output_type": "stream",
     "text": [
      "{'dance pop': 25, 'pop': 45, 'post-teen pop': 19, 'pop punk': 3, 'rock': 6, 'contemporary country': 16, 'country': 9, 'country road': 12, 'modern country rock': 5, 'hip hop': 14, 'pop rap': 18, 'rap': 25, 'canadian hip hop': 1, 'canadian pop': 4, 'k-pop': 1, 'modern rock': 5, 'vegas indie': 2, 'album rock': 3, 'mellow gold': 4, 'soft rock': 3, 'detroit hip hop': 1, 'g funk': 1, 'trap music': 16, 'anthem worship': 1, 'ccm': 2, 'christian alternative rock': 2, 'christian music': 2, 'christian rock': 1, 'world worship': 1, 'worship': 2, 'emo rap': 3, 'electropop': 3, 'etherpop': 1, 'indie poptimism': 2, 'indie r&b': 2, 'r&b': 4, 'uk contemporary r&b': 1, 'urban contemporary': 2, 'viral pop': 2, 'boy band': 1, 'alternative metal': 1, 'screamo': 2, 'emo': 1, 'brostep': 1, 'progressive electro house': 1, 'conscious hip hop': 1, 'west coast rap': 1, 'southern hip hop': 6, 'underground hip hop': 1, 'vapor trap': 1, 'hip pop': 1, 'country dawn': 1, 'reggaeton': 3, 'trap latino': 2, 'modern alternative rock': 1, 'hollywood': 1, 'new wave pop': 1, 'metropopolis': 1, 'dirty south rap': 1, 'gangster rap': 2, 'melodic metalcore': 1, 'metalcore': 1, 'post-screamo': 1, 'rap metal': 1, 'edm': 3, 'tropical house': 3, 'glam rock': 1, 'latin': 1, 'christmas': 1, 'classic soul': 1, 'jazz blues': 1, 'memphis soul': 1, 'soul': 1, 'southern soul': 1, 'electronic trap': 1, 'canadian contemporary country': 2, 'classic rock': 2, 'folk rock': 1, 'heartland rock': 1, 'pop rock': 2, 'psychedelic rock': 1, 'roots rock': 1, 'complextro': 1, 'german techno': 1, 'acoustic pop': 2, 'folk-pop': 2, 'indiecoustica': 1, 'neo mellow': 2, 'blues-rock': 1, 'hard rock': 1, 'southern rock': 1, 'indie pop rap': 1, 'chamber pop': 1, 'indie folk': 1, 'indie pop': 1, 'new americana': 1, 'stomp and flutter': 1, 'stomp and holler': 1}\n"
     ]
    }
   ],
   "source": [
    "# Count the frequency of each genre for the top-100 artists\n",
    "genre_counter = Counter(x for sublist in genres for x in sublist)\n",
    "\n",
    "# Convert counter object to dictionary\n",
    "genre_counter = dict(genre_counter)\n",
    "\n",
    "print(genre_counter)"
   ]
  },
  {
   "cell_type": "code",
   "execution_count": 62,
   "metadata": {},
   "outputs": [],
   "source": [
    "genre_dic = []\n",
    "\n",
    "# Reformat dictionary for addtion to database\n",
    "for key, value in genre_counter.items():\n",
    "    temp = {\"genre\": key,\n",
    "           \"count\": value}\n",
    "    genre_dic.append(temp)\n",
    "    \n",
    "# print(genre_dic)"
   ]
  },
  {
   "cell_type": "code",
   "execution_count": 64,
   "metadata": {},
   "outputs": [
    {
     "data": {
      "text/plain": [
       "<sqlalchemy.engine.result.ResultProxy at 0x209194f5f28>"
      ]
     },
     "execution_count": 64,
     "metadata": {},
     "output_type": "execute_result"
    }
   ],
   "source": [
    "# Connect to db using sqlalchemy\n",
    "db_uri = \"sqlite:///music.db\"\n",
    "engine = create_engine(db_uri)\n",
    "\n",
    "# create features table\n",
    "# engine.execute('CREATE TABLE \"features\" ('\n",
    "#                'id string NOT NULL,'\n",
    "#                'popularity integer,'\n",
    "#                'danceability integer,'\n",
    "#                'energy integer,'\n",
    "#                'loudness integer,'\n",
    "#                'speechiness integer,'\n",
    "#                'duration_ms integer,'\n",
    "#                'tempo integer);')\n",
    "\n",
    "# create map table\n",
    "# engine.execute('CREATE TABLE \"map\" ('\n",
    "#                'country_code string,'\n",
    "#                'market_count integer);')\n",
    "\n",
    "# create genre table\n",
    "# engine.execute('CREATE TABLE \"genre\" ('\n",
    "#                'genre string,'\n",
    "#                'count integer);')\n",
    "\n",
    "\n",
    "\n",
    "# c.execute(\"DROP TABLE features\")\n"
   ]
  },
  {
   "cell_type": "code",
   "execution_count": null,
   "metadata": {
    "scrolled": true
   },
   "outputs": [],
   "source": [
    "conn = sqlite3.connect('music.db')\n",
    "\n",
    "c = conn.cursor()\n",
    "\n",
    "\n",
    "for feature in features:\n",
    "    c.execute(\"insert into features values (?, ?, ?, ?, ?, ?, ?, ?)\", \n",
    "              [feature['id'],feature['popularity'],feature['danceability'],feature['energy'],\n",
    "              feature['loudness'],feature['speechiness'],feature['duration_ms'],feature['tempo']])\n",
    "    conn.commit()\n",
    "conn.close()"
   ]
  },
  {
   "cell_type": "code",
   "execution_count": 26,
   "metadata": {},
   "outputs": [],
   "source": [
    "conn = sqlite3.connect('music.db')\n",
    "\n",
    "c = conn.cursor()\n",
    "\n",
    "\n",
    "for market in market_dic:\n",
    "    c.execute(\"insert into map values (?, ?)\", \n",
    "              [market['country_code'],market['market_count']])\n",
    "    conn.commit()\n",
    "conn.close()"
   ]
  },
  {
   "cell_type": "code",
   "execution_count": 66,
   "metadata": {},
   "outputs": [],
   "source": [
    "conn = sqlite3.connect('music.db')\n",
    "\n",
    "c = conn.cursor()\n",
    "\n",
    "\n",
    "for genre in genre_dic:\n",
    "    c.execute(\"insert into genre values (?, ?)\", \n",
    "              [genre['genre'],genre['count']])\n",
    "    conn.commit()\n",
    "conn.close()"
   ]
  },
  {
   "cell_type": "code",
   "execution_count": 67,
   "metadata": {},
   "outputs": [
    {
     "name": "stdout",
     "output_type": "stream",
     "text": [
      "[('dance pop', 25), ('pop', 45), ('post-teen pop', 19), ('pop punk', 3), ('rock', 6), ('contemporary country', 16), ('country', 9), ('country road', 12), ('modern country rock', 5), ('hip hop', 14), ('pop rap', 18), ('rap', 25), ('canadian hip hop', 1), ('canadian pop', 4), ('k-pop', 1), ('modern rock', 5), ('vegas indie', 2), ('album rock', 3), ('mellow gold', 4), ('soft rock', 3), ('detroit hip hop', 1), ('g funk', 1), ('trap music', 16), ('anthem worship', 1), ('ccm', 2), ('christian alternative rock', 2), ('christian music', 2), ('christian rock', 1), ('world worship', 1), ('worship', 2), ('emo rap', 3), ('electropop', 3), ('etherpop', 1), ('indie poptimism', 2), ('indie r&b', 2), ('r&b', 4), ('uk contemporary r&b', 1), ('urban contemporary', 2), ('viral pop', 2), ('boy band', 1), ('alternative metal', 1), ('screamo', 2), ('emo', 1), ('brostep', 1), ('progressive electro house', 1), ('conscious hip hop', 1), ('west coast rap', 1), ('southern hip hop', 6), ('underground hip hop', 1), ('vapor trap', 1), ('hip pop', 1), ('country dawn', 1), ('reggaeton', 3), ('trap latino', 2), ('modern alternative rock', 1), ('hollywood', 1), ('new wave pop', 1), ('metropopolis', 1), ('dirty south rap', 1), ('gangster rap', 2), ('melodic metalcore', 1), ('metalcore', 1), ('post-screamo', 1), ('rap metal', 1), ('edm', 3), ('tropical house', 3), ('glam rock', 1), ('latin', 1), ('christmas', 1), ('classic soul', 1), ('jazz blues', 1), ('memphis soul', 1), ('soul', 1), ('southern soul', 1), ('electronic trap', 1), ('canadian contemporary country', 2), ('classic rock', 2), ('folk rock', 1), ('heartland rock', 1), ('pop rock', 2), ('psychedelic rock', 1), ('roots rock', 1), ('complextro', 1), ('german techno', 1), ('acoustic pop', 2), ('folk-pop', 2), ('indiecoustica', 1), ('neo mellow', 2), ('blues-rock', 1), ('hard rock', 1), ('southern rock', 1), ('indie pop rap', 1), ('chamber pop', 1), ('indie folk', 1), ('indie pop', 1), ('new americana', 1), ('stomp and flutter', 1), ('stomp and holler', 1)]\n"
     ]
    }
   ],
   "source": [
    "# verify table creation\n",
    "# result = engine.execute('SELECT * FROM \"features\"')\n",
    "# result = engine.execute('SELECT * FROM \"map\"')\n",
    "result = engine.execute('SELECT * FROM \"genre\"')\n",
    "print(result.fetchall())"
   ]
  },
  {
   "cell_type": "code",
   "execution_count": null,
   "metadata": {},
   "outputs": [],
   "source": []
  }
 ],
 "metadata": {
  "kernelspec": {
   "display_name": "Python [default]",
   "language": "python",
   "name": "python3"
  },
  "language_info": {
   "codemirror_mode": {
    "name": "ipython",
    "version": 3
   },
   "file_extension": ".py",
   "mimetype": "text/x-python",
   "name": "python",
   "nbconvert_exporter": "python",
   "pygments_lexer": "ipython3",
   "version": "3.6.4"
  }
 },
 "nbformat": 4,
 "nbformat_minor": 2
}
